{
 "cells": [
  {
   "cell_type": "markdown",
   "metadata": {},
   "source": [
    "# 07-3 강력한 정규 표현식의 세계로"
   ]
  },
  {
   "cell_type": "markdown",
   "metadata": {},
   "source": [
    "## 메타문자"
   ]
  },
  {
   "cell_type": "markdown",
   "metadata": {},
   "source": [
    "### |"
   ]
  },
  {
   "cell_type": "markdown",
   "metadata": {},
   "source": [
    "| 메타묹는 \"or\"의 의미와 동일하다. A|B라는 정규식은 A 또는 B라는 의미가 된다."
   ]
  },
  {
   "cell_type": "code",
   "execution_count": 3,
   "metadata": {},
   "outputs": [
    {
     "name": "stdout",
     "output_type": "stream",
     "text": [
      "<re.Match object; span=(0, 4), match='Crow'>\n"
     ]
    }
   ],
   "source": [
    "import re\n",
    "p = re.compile('Crow|Servo')\n",
    "m = p.match('CrowHello')\n",
    "print(m)"
   ]
  },
  {
   "cell_type": "code",
   "execution_count": 4,
   "metadata": {},
   "outputs": [
    {
     "name": "stdout",
     "output_type": "stream",
     "text": [
      "<re.Match object; span=(0, 4), match='Life'>\n"
     ]
    }
   ],
   "source": [
    "print(re.search('^Life','Life is too short'))\n"
   ]
  },
  {
   "cell_type": "code",
   "execution_count": 5,
   "metadata": {},
   "outputs": [
    {
     "name": "stdout",
     "output_type": "stream",
     "text": [
      "None\n"
     ]
    }
   ],
   "source": [
    "# 처음에 온 경우에는 매치하지만 처음 위치가 아닌 경우에는 매치가 안된다.\n",
    "print(re.search('^Life','My Life'))"
   ]
  },
  {
   "cell_type": "markdown",
   "metadata": {},
   "source": [
    "### $"
   ]
  },
  {
   "cell_type": "code",
   "execution_count": 6,
   "metadata": {},
   "outputs": [
    {
     "name": "stdout",
     "output_type": "stream",
     "text": [
      "<re.Match object; span=(12, 17), match='short'>\n"
     ]
    }
   ],
   "source": [
    "# $는 문자열의 끝과 매치한다.\n",
    "print(re.search('short$','Life is too short'))"
   ]
  },
  {
   "cell_type": "code",
   "execution_count": 7,
   "metadata": {},
   "outputs": [
    {
     "name": "stdout",
     "output_type": "stream",
     "text": [
      "None\n"
     ]
    }
   ],
   "source": [
    "print(re.search('short$','Life is too short, you need python'))"
   ]
  },
  {
   "cell_type": "markdown",
   "metadata": {},
   "source": [
    "### \\A"
   ]
  },
  {
   "cell_type": "markdown",
   "metadata": {},
   "source": [
    "\\A는 문자열의 처음과 매치됨을 의미한다. ^과 동일한 의미이지만 re.MULTILINE 옵션을 사용할 경우에는 다르게 해석된다. re.MULTILINE 옵션을 사용할 경우 ^은 라인별 문자열의 처음과 매치 되지만 \\A는 라인과 상관없이 전체 문자열의 처음하고만 매치된다."
   ]
  },
  {
   "cell_type": "markdown",
   "metadata": {},
   "source": [
    "### \\Z"
   ]
  },
  {
   "cell_type": "markdown",
   "metadata": {},
   "source": [
    "\\Z는 문자열의 끝과 매치됨을 의미한다. 이것 역시 \\A와 동일하게 re.MULTILINE 옵션을 사용할 경우 $ 메타문자와는 달리 전체 문자열의 끝과 매치된다.\n"
   ]
  },
  {
   "cell_type": "markdown",
   "metadata": {},
   "source": [
    "### \\b"
   ]
  },
  {
   "cell_type": "code",
   "execution_count": 10,
   "metadata": {},
   "outputs": [
    {
     "name": "stdout",
     "output_type": "stream",
     "text": [
      "<re.Match object; span=(3, 8), match='class'>\n"
     ]
    }
   ],
   "source": [
    "p = re.compile(r'\\bclass\\b')\n",
    "print(p.search('no class at all'))"
   ]
  },
  {
   "cell_type": "code",
   "execution_count": 11,
   "metadata": {},
   "outputs": [
    {
     "name": "stdout",
     "output_type": "stream",
     "text": [
      "None\n"
     ]
    }
   ],
   "source": [
    "print(p.search('the declassified algorithm'))"
   ]
  },
  {
   "cell_type": "code",
   "execution_count": 12,
   "metadata": {},
   "outputs": [
    {
     "name": "stdout",
     "output_type": "stream",
     "text": [
      "None\n"
     ]
    }
   ],
   "source": [
    "print(p.search('one subclass is'))"
   ]
  },
  {
   "cell_type": "markdown",
   "metadata": {},
   "source": [
    " \\b는 파이썬 리터럴 규칙에 의하면 백스페이스(Back Space)를 의미하므로 백스페이스가 아닌 Word Boundary임을 알려주기 위해 r’\\bclass\\b’ 처럼 raw string임을 알려주는 기호 r을 반드시 붙여주어야 한다.\n"
   ]
  },
  {
   "cell_type": "markdown",
   "metadata": {},
   "source": [
    "### \\B"
   ]
  },
  {
   "cell_type": "markdown",
   "metadata": {},
   "source": [
    "\\B 메타문자는 \\b 메타문자의 반대의 경우이다. 즉, whitespace로 구분된 단어가 아닌 경우에만 매치된다.\n"
   ]
  },
  {
   "cell_type": "code",
   "execution_count": 14,
   "metadata": {},
   "outputs": [
    {
     "name": "stdout",
     "output_type": "stream",
     "text": [
      "None\n"
     ]
    }
   ],
   "source": [
    "p = re.compile(r'\\Bclass\\B')\n",
    "print(p.search('no class at all'))"
   ]
  },
  {
   "cell_type": "code",
   "execution_count": 15,
   "metadata": {},
   "outputs": [
    {
     "name": "stdout",
     "output_type": "stream",
     "text": [
      "<re.Match object; span=(6, 11), match='class'>\n"
     ]
    }
   ],
   "source": [
    "print(p.search('the declassified algorithm'))"
   ]
  },
  {
   "cell_type": "markdown",
   "metadata": {},
   "source": [
    "### 그루핑"
   ]
  },
  {
   "cell_type": "code",
   "execution_count": 16,
   "metadata": {},
   "outputs": [
    {
     "name": "stdout",
     "output_type": "stream",
     "text": [
      "<re.Match object; span=(0, 9), match='ABCABCABC'>\n"
     ]
    }
   ],
   "source": [
    "p = re.compile('(ABC)+')\n",
    "m = p.search('ABCABCABC OK?')\n",
    "print(m)\n"
   ]
  },
  {
   "cell_type": "code",
   "execution_count": 17,
   "metadata": {},
   "outputs": [
    {
     "name": "stdout",
     "output_type": "stream",
     "text": [
      "ABCABCABC\n"
     ]
    }
   ],
   "source": [
    "print(m.group())"
   ]
  },
  {
   "cell_type": "code",
   "execution_count": 18,
   "metadata": {},
   "outputs": [],
   "source": [
    "p = re.compile(r\"\\w+\\s+\\d+[-]\\d+[-]\\d+\")\n",
    "m = p.search(\"park 010-1234-1234\")"
   ]
  },
  {
   "cell_type": "code",
   "execution_count": 20,
   "metadata": {},
   "outputs": [
    {
     "name": "stdout",
     "output_type": "stream",
     "text": [
      "park\n"
     ]
    }
   ],
   "source": [
    "# 이름만 뽑아 내고 싶을때\n",
    "p = re.compile(r\"(\\w+)\\s+\\d+[-]\\d+[-]\\d+\")\n",
    "m = p.search(\"park 010-1234-1234\")\n",
    "print(m.group(1))"
   ]
  },
  {
   "cell_type": "markdown",
   "metadata": {},
   "source": [
    "|group(인덱스)|설명|\n",
    "| :--- | :---\n",
    "|group(1)|첫 번째 그룹에 해당되는 문자열|\n",
    "|group(2)|두 번째 그룹에 해당되는 문자열|\n",
    "|group(n)|n 번째 그룸에 해당되는 문자열|"
   ]
  },
  {
   "cell_type": "code",
   "execution_count": 21,
   "metadata": {},
   "outputs": [
    {
     "name": "stdout",
     "output_type": "stream",
     "text": [
      "010-1234-1234\n"
     ]
    }
   ],
   "source": [
    "# 전화번호만 뽑아내기\n",
    "p = re.compile(r\"(\\w+)\\s+(\\d+[-]\\d+[-]\\d+)\")\n",
    "m = p.search(\"park 010-1234-1234\")\n",
    "print(m.group(2))"
   ]
  },
  {
   "cell_type": "code",
   "execution_count": 25,
   "metadata": {},
   "outputs": [
    {
     "name": "stdout",
     "output_type": "stream",
     "text": [
      "010\n"
     ]
    }
   ],
   "source": [
    "# 그룹이 중첩되어 있는 경우 바깥쪽 부터 안쪽으로 들어갈수록 인덱스 증가한다.\n",
    "p = re.compile(r\"(\\w+)\\s+((\\d+)[-]\\d+[-]\\d+)\")\n",
    "m = p.search(\"park 010-1234-1234\")\n",
    "print(m.group(3))\n"
   ]
  },
  {
   "cell_type": "markdown",
   "metadata": {},
   "source": [
    "### 그루핑된 문자열 재참조하기"
   ]
  },
  {
   "cell_type": "code",
   "execution_count": 26,
   "metadata": {},
   "outputs": [
    {
     "data": {
      "text/plain": [
       "'the the'"
      ]
     },
     "execution_count": 26,
     "metadata": {},
     "output_type": "execute_result"
    }
   ],
   "source": [
    "p = re.compile(r'(\\b\\w+)\\s+\\1')\n",
    "p.search('Paris in the the spring').group()"
   ]
  }
 ],
 "metadata": {
  "kernelspec": {
   "display_name": "Python 3",
   "language": "python",
   "name": "python3"
  },
  "language_info": {
   "codemirror_mode": {
    "name": "ipython",
    "version": 3
   },
   "file_extension": ".py",
   "mimetype": "text/x-python",
   "name": "python",
   "nbconvert_exporter": "python",
   "pygments_lexer": "ipython3",
   "version": "3.7.4"
  }
 },
 "nbformat": 4,
 "nbformat_minor": 2
}
