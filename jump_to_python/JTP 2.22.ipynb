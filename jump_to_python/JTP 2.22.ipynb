{
 "cells": [
  {
   "cell_type": "markdown",
   "metadata": {},
   "source": [
    "# 05-6 외장함수"
   ]
  },
  {
   "cell_type": "markdown",
   "metadata": {},
   "source": [
    "### sys\n",
    "파이썬 인터프리터가 제공하는 변수들과 함수들을 직접 제어할 수 있게 해주는 모듈"
   ]
  },
  {
   "cell_type": "code",
   "execution_count": 2,
   "metadata": {},
   "outputs": [
    {
     "ename": "SystemExit",
     "evalue": "",
     "output_type": "error",
     "traceback": [
      "An exception has occurred, use %tb to see the full traceback.\n",
      "\u001b[1;31mSystemExit\u001b[0m\n"
     ]
    },
    {
     "name": "stderr",
     "output_type": "stream",
     "text": [
      "C:\\Users\\hyojung\\AppData\\Roaming\\Python\\Python37\\site-packages\\IPython\\core\\interactiveshell.py:3327: UserWarning: To exit: use 'exit', 'quit', or Ctrl-D.\n",
      "  warn(\"To exit: use 'exit', 'quit', or Ctrl-D.\", stacklevel=1)\n"
     ]
    }
   ],
   "source": [
    "# 강제로 스크립트 종료하기 \n",
    "import sys\n",
    "sys.exit()"
   ]
  },
  {
   "cell_type": "code",
   "execution_count": 3,
   "metadata": {},
   "outputs": [
    {
     "data": {
      "text/plain": [
       "['C:\\\\Users\\\\hyojung\\\\Documents\\\\CAU_ET\\\\hj19\\\\code',\n",
       " 'C:\\\\Users\\\\hyojung\\\\Anaconda3\\\\python37.zip',\n",
       " 'C:\\\\Users\\\\hyojung\\\\Anaconda3\\\\DLLs',\n",
       " 'C:\\\\Users\\\\hyojung\\\\Anaconda3\\\\lib',\n",
       " 'C:\\\\Users\\\\hyojung\\\\Anaconda3',\n",
       " '',\n",
       " 'C:\\\\Users\\\\hyojung\\\\AppData\\\\Roaming\\\\Python\\\\Python37\\\\site-packages',\n",
       " 'C:\\\\Users\\\\hyojung\\\\Anaconda3\\\\lib\\\\site-packages',\n",
       " 'C:\\\\Users\\\\hyojung\\\\Anaconda3\\\\lib\\\\site-packages\\\\win32',\n",
       " 'C:\\\\Users\\\\hyojung\\\\Anaconda3\\\\lib\\\\site-packages\\\\win32\\\\lib',\n",
       " 'C:\\\\Users\\\\hyojung\\\\Anaconda3\\\\lib\\\\site-packages\\\\Pythonwin',\n",
       " 'C:\\\\Users\\\\hyojung\\\\AppData\\\\Roaming\\\\Python\\\\Python37\\\\site-packages\\\\IPython\\\\extensions',\n",
       " 'C:\\\\Users\\\\hyojung\\\\.ipython']"
      ]
     },
     "execution_count": 3,
     "metadata": {},
     "output_type": "execute_result"
    }
   ],
   "source": [
    "# 파이썬 모듈이 저장되어 있는 위치\n",
    "sys.path"
   ]
  },
  {
   "cell_type": "markdown",
   "metadata": {},
   "source": [
    "### pickle\n",
    "객체의 형태를 그대로 유지하면서 파일에 저장하고 불러올 수 있게 하는 모듈"
   ]
  },
  {
   "cell_type": "code",
   "execution_count": 5,
   "metadata": {},
   "outputs": [],
   "source": [
    "import pickle\n",
    "f = open(\"test.txt\", 'wb')\n",
    "data = {1: 'python', 2: 'you need'}\n",
    "pickle.dump(data, f)\n",
    "f.close()\n"
   ]
  },
  {
   "cell_type": "code",
   "execution_count": 7,
   "metadata": {},
   "outputs": [
    {
     "name": "stdout",
     "output_type": "stream",
     "text": [
      "{1: 'python', 2: 'you need'}\n"
     ]
    }
   ],
   "source": [
    "import pickle\n",
    "f = open(\"test.txt\", 'rb')\n",
    "data = pickle.load(f)\n",
    "print(data)"
   ]
  },
  {
   "cell_type": "markdown",
   "metadata": {},
   "source": [
    "### os \n",
    "환경 변수나 디렉터리, 파일 등의 OS 자원을 제어할 수 있게 해주는 모듈"
   ]
  },
  {
   "cell_type": "code",
   "execution_count": 8,
   "metadata": {},
   "outputs": [
    {
     "data": {
      "text/plain": [
       "environ{'ALLUSERSPROFILE': 'C:\\\\ProgramData',\n",
       "        'APPDATA': 'C:\\\\Users\\\\hyojung\\\\AppData\\\\Roaming',\n",
       "        'COMMONPROGRAMFILES': 'C:\\\\Program Files\\\\Common Files',\n",
       "        'COMMONPROGRAMFILES(X86)': 'C:\\\\Program Files (x86)\\\\Common Files',\n",
       "        'COMMONPROGRAMW6432': 'C:\\\\Program Files\\\\Common Files',\n",
       "        'COMPUTERNAME': 'HYOJUNG',\n",
       "        'COMSPEC': 'C:\\\\WINDOWS\\\\system32\\\\cmd.exe',\n",
       "        'CONFIGSETROOT': 'C:\\\\WINDOWS\\\\ConfigSetRoot',\n",
       "        'DRIVERDATA': 'C:\\\\Windows\\\\System32\\\\Drivers\\\\DriverData',\n",
       "        'FPS_BROWSER_APP_PROFILE_STRING': 'Internet Explorer',\n",
       "        'FPS_BROWSER_USER_PROFILE_STRING': 'Default',\n",
       "        'FP_NO_HOST_CHECK': 'NO',\n",
       "        'HOMEDRIVE': 'C:',\n",
       "        'HOMEPATH': '\\\\Users\\\\hyojung',\n",
       "        'LOCALAPPDATA': 'C:\\\\Users\\\\hyojung\\\\AppData\\\\Local',\n",
       "        'LOGONSERVER': '\\\\\\\\HYOJUNG',\n",
       "        'NUMBER_OF_PROCESSORS': '4',\n",
       "        'ONEDRIVE': 'C:\\\\Users\\\\hyojung\\\\OneDrive',\n",
       "        'ONEDRIVECONSUMER': 'C:\\\\Users\\\\hyojung\\\\OneDrive',\n",
       "        'OS': 'Windows_NT',\n",
       "        'PATH': 'C:\\\\Users\\\\hyojung\\\\Anaconda3;C:\\\\Users\\\\hyojung\\\\Anaconda3\\\\Library\\\\mingw-w64\\\\bin;C:\\\\Users\\\\hyojung\\\\Anaconda3\\\\Library\\\\usr\\\\bin;C:\\\\Users\\\\hyojung\\\\Anaconda3\\\\Library\\\\bin;C:\\\\Users\\\\hyojung\\\\Anaconda3\\\\Scripts;C:\\\\Program Files (x86)\\\\Wizvera\\\\Delfino;C:\\\\Program Files (x86)\\\\Intel\\\\iCLS Client\\\\;C:\\\\Program Files\\\\Intel\\\\iCLS Client\\\\;C:\\\\WINDOWS\\\\system32;C:\\\\WINDOWS;C:\\\\WINDOWS\\\\System32\\\\Wbem;C:\\\\WINDOWS\\\\System32\\\\WindowsPowerShell\\\\v1.0\\\\;C:\\\\Program Files (x86)\\\\Windows Live\\\\Shared;C:\\\\Program Files\\\\Intel\\\\Intel(R) Management Engine Components\\\\DAL;C:\\\\Program Files\\\\Intel\\\\Intel(R) Management Engine Components\\\\IPT;C:\\\\Program Files (x86)\\\\Intel\\\\Intel(R) Management Engine Components\\\\DAL;C:\\\\Program Files (x86)\\\\Intel\\\\Intel(R) Management Engine Components\\\\IPT;C:\\\\Program Files\\\\Intel\\\\WiFi\\\\bin\\\\;C:\\\\Program Files\\\\Common Files\\\\Intel\\\\WirelessCommon\\\\;C:\\\\Program Files\\\\SASHome\\\\SASFoundation\\\\9.4\\\\ets\\\\sasexe;C:\\\\Program Files\\\\SASHome\\\\Secure\\\\ccme4;C:\\\\Program Files\\\\SASHome\\\\x86\\\\Secure\\\\ccme4;C:\\\\WINDOWS\\\\System32\\\\OpenSSH\\\\;C:\\\\Program Files\\\\Git\\\\cmd;C:\\\\Users\\\\hyojung\\\\AppData\\\\Local\\\\Programs\\\\Python\\\\Python37-32\\\\Scripts\\\\;C:\\\\Users\\\\hyojung\\\\AppData\\\\Local\\\\Programs\\\\Python\\\\Python37-32\\\\;C:\\\\Users\\\\hyojung\\\\AppData\\\\Local\\\\Microsoft\\\\WindowsApps;',\n",
       "        'PATHEXT': '.COM;.EXE;.BAT;.CMD;.VBS;.VBE;.JS;.JSE;.WSF;.WSH;.MSC',\n",
       "        'PROCESSOR_ARCHITECTURE': 'AMD64',\n",
       "        'PROCESSOR_IDENTIFIER': 'Intel64 Family 6 Model 69 Stepping 1, GenuineIntel',\n",
       "        'PROCESSOR_LEVEL': '6',\n",
       "        'PROCESSOR_REVISION': '4501',\n",
       "        'PROGRAMDATA': 'C:\\\\ProgramData',\n",
       "        'PROGRAMFILES': 'C:\\\\Program Files',\n",
       "        'PROGRAMFILES(X86)': 'C:\\\\Program Files (x86)',\n",
       "        'PROGRAMW6432': 'C:\\\\Program Files',\n",
       "        'PSMODULEPATH': 'C:\\\\WINDOWS\\\\system32\\\\WindowsPowerShell\\\\v1.0\\\\Modules\\\\',\n",
       "        'PUBLIC': 'C:\\\\Users\\\\Public',\n",
       "        'SESSIONNAME': 'Console',\n",
       "        'SYSTEMDRIVE': 'C:',\n",
       "        'SYSTEMROOT': 'C:\\\\WINDOWS',\n",
       "        'TEMP': 'C:\\\\Users\\\\hyojung\\\\AppData\\\\Local\\\\Temp',\n",
       "        'TMP': 'C:\\\\Users\\\\hyojung\\\\AppData\\\\Local\\\\Temp',\n",
       "        'USERDOMAIN': 'HYOJUNG',\n",
       "        'USERDOMAIN_ROAMINGPROFILE': 'HYOJUNG',\n",
       "        'USERNAME': 'hyojung',\n",
       "        'USERPROFILE': 'C:\\\\Users\\\\hyojung',\n",
       "        'WINDIR': 'C:\\\\WINDOWS',\n",
       "        'CONDA_PREFIX': 'C:\\\\Users\\\\hyojung\\\\Anaconda3',\n",
       "        'KERNEL_LAUNCH_TIMEOUT': '40',\n",
       "        'JPY_INTERRUPT_EVENT': '2408',\n",
       "        'IPY_INTERRUPT_EVENT': '2408',\n",
       "        'JPY_PARENT_PID': '2348',\n",
       "        'TERM': 'xterm-color',\n",
       "        'CLICOLOR': '1',\n",
       "        'PAGER': 'cat',\n",
       "        'GIT_PAGER': 'cat',\n",
       "        'MPLBACKEND': 'module://ipykernel.pylab.backend_inline'}"
      ]
     },
     "execution_count": 8,
     "metadata": {},
     "output_type": "execute_result"
    }
   ],
   "source": [
    "# 내 시스템의 환경 변수값을 알고 싶을 때\n",
    "\n",
    "import os\n",
    "os.environ"
   ]
  },
  {
   "cell_type": "code",
   "execution_count": 9,
   "metadata": {},
   "outputs": [
    {
     "data": {
      "text/plain": [
       "'C:\\\\Users\\\\hyojung\\\\Anaconda3;C:\\\\Users\\\\hyojung\\\\Anaconda3\\\\Library\\\\mingw-w64\\\\bin;C:\\\\Users\\\\hyojung\\\\Anaconda3\\\\Library\\\\usr\\\\bin;C:\\\\Users\\\\hyojung\\\\Anaconda3\\\\Library\\\\bin;C:\\\\Users\\\\hyojung\\\\Anaconda3\\\\Scripts;C:\\\\Program Files (x86)\\\\Wizvera\\\\Delfino;C:\\\\Program Files (x86)\\\\Intel\\\\iCLS Client\\\\;C:\\\\Program Files\\\\Intel\\\\iCLS Client\\\\;C:\\\\WINDOWS\\\\system32;C:\\\\WINDOWS;C:\\\\WINDOWS\\\\System32\\\\Wbem;C:\\\\WINDOWS\\\\System32\\\\WindowsPowerShell\\\\v1.0\\\\;C:\\\\Program Files (x86)\\\\Windows Live\\\\Shared;C:\\\\Program Files\\\\Intel\\\\Intel(R) Management Engine Components\\\\DAL;C:\\\\Program Files\\\\Intel\\\\Intel(R) Management Engine Components\\\\IPT;C:\\\\Program Files (x86)\\\\Intel\\\\Intel(R) Management Engine Components\\\\DAL;C:\\\\Program Files (x86)\\\\Intel\\\\Intel(R) Management Engine Components\\\\IPT;C:\\\\Program Files\\\\Intel\\\\WiFi\\\\bin\\\\;C:\\\\Program Files\\\\Common Files\\\\Intel\\\\WirelessCommon\\\\;C:\\\\Program Files\\\\SASHome\\\\SASFoundation\\\\9.4\\\\ets\\\\sasexe;C:\\\\Program Files\\\\SASHome\\\\Secure\\\\ccme4;C:\\\\Program Files\\\\SASHome\\\\x86\\\\Secure\\\\ccme4;C:\\\\WINDOWS\\\\System32\\\\OpenSSH\\\\;C:\\\\Program Files\\\\Git\\\\cmd;C:\\\\Users\\\\hyojung\\\\AppData\\\\Local\\\\Programs\\\\Python\\\\Python37-32\\\\Scripts\\\\;C:\\\\Users\\\\hyojung\\\\AppData\\\\Local\\\\Programs\\\\Python\\\\Python37-32\\\\;C:\\\\Users\\\\hyojung\\\\AppData\\\\Local\\\\Microsoft\\\\WindowsApps;'"
      ]
     },
     "execution_count": 9,
     "metadata": {},
     "output_type": "execute_result"
    }
   ],
   "source": [
    "os.environ['PATH']"
   ]
  },
  {
   "cell_type": "code",
   "execution_count": 10,
   "metadata": {},
   "outputs": [],
   "source": [
    "# 디렉터리 위치 변경하기\n",
    "os.chdir(\"C:/WINDOWS\")"
   ]
  },
  {
   "cell_type": "code",
   "execution_count": 11,
   "metadata": {},
   "outputs": [
    {
     "data": {
      "text/plain": [
       "'C:\\\\WINDOWS'"
      ]
     },
     "execution_count": 11,
     "metadata": {},
     "output_type": "execute_result"
    }
   ],
   "source": [
    "# 디렉터리 위치 리턴받기\n",
    "os.getcwd()"
   ]
  },
  {
   "cell_type": "code",
   "execution_count": 12,
   "metadata": {},
   "outputs": [
    {
     "data": {
      "text/plain": [
       "0"
      ]
     },
     "execution_count": 12,
     "metadata": {},
     "output_type": "execute_result"
    }
   ],
   "source": [
    "# 시스템 명령어 호출하기\n",
    "os.system(\"dir\")"
   ]
  },
  {
   "cell_type": "code",
   "execution_count": 13,
   "metadata": {},
   "outputs": [],
   "source": [
    "# 실행한 시스템의 결과값 리턴받기\n",
    "f=os.popen(\"dir\")"
   ]
  },
  {
   "cell_type": "code",
   "execution_count": 14,
   "metadata": {},
   "outputs": [
    {
     "name": "stdout",
     "output_type": "stream",
     "text": [
      " C 드라이브의 볼륨: Windows\n",
      " 볼륨 일련 번호: D4B8-F77F\n",
      "\n",
      " C:\\WINDOWS 디렉터리\n",
      "\n",
      "2020-02-23  오전 01:06    <DIR>          .\n",
      "2020-02-23  오전 01:06    <DIR>          ..\n",
      "2014-03-06  오후 02:23                25 13Z940_W862C_KRM3.WIM\n",
      "2019-03-19  오후 01:52    <DIR>          addins\n",
      "2020-01-28  오전 11:10           404,397 AhnInst.log\n",
      "2019-08-30  오후 07:44    <DIR>          appcompat\n",
      "2020-02-14  오후 09:56    <DIR>          apppatch\n",
      "2020-02-22  오후 07:05    <DIR>          AppReadiness\n",
      "2020-02-21  오후 07:23    <DIR>          assembly\n",
      "2020-02-14  오후 09:56    <DIR>          bcastdvr\n",
      "2019-03-19  오후 01:43            73,216 bfsvc.exe\n",
      "2019-03-19  오후 01:52    <DIR>          Boot\n",
      "2019-03-19  오후 01:52    <DIR>          Branding\n",
      "2020-02-14  오후 09:54    <DIR>          CbsTemp\n",
      "2019-08-28  오전 02:48            45,692 comsetup.log\n",
      "2014-10-15  오전 06:48    <DIR>          ConfigSetRoot\n",
      "2019-03-19  오후 01:52    <DIR>          Containers\n",
      "2019-03-19  오후 01:46            33,951 Core.xml\n",
      "2014-10-14  오후 05:45                10 csup.txt\n",
      "2019-03-19  오후 01:52    <DIR>          Cursors\n",
      "2018-05-29  오후 12:17             1,978 DDACLSys.log\n",
      "2020-01-22  오후 11:18    <DIR>          debug\n",
      "2019-08-28  오전 02:50             7,623 diagerr.xml\n",
      "2019-03-19  오후 01:52    <DIR>          diagnostics\n",
      "2019-11-25  오전 12:00    <DIR>          DiagTrack\n",
      "2019-08-28  오전 02:50             7,623 diagwrn.xml\n",
      "2019-03-19  오후 09:26    <DIR>          DigitalLocker\n",
      "2014-10-14  오후 01:58               199 DirectX.log\n",
      "2014-10-14  오후 05:58            44,280 DPINST.LOG\n",
      "2019-03-19  오후 01:55               776 DtcInstall.log\n",
      "2019-08-28  오전 02:16    <DIR>          en\n",
      "2019-08-28  오전 01:15    <DIR>          en-US\n",
      "2020-02-14  오후 09:16         4,615,376 explorer.exe\n",
      "2019-11-24  오전 10:52                 0 EXPRESSCACHE1.txt\n",
      "2020-02-23  오전 01:06                 0 FFS.txt\n",
      "2018-06-07  오후 03:27                 0 FFS8_1.txt\n",
      "2020-02-23  오전 01:06                 0 FFS_0.txt\n",
      "2018-06-07  오후 04:16                 0 FFS_1.txt\n",
      "2019-03-19  오후 01:52    <DIR>          GameBarPresenceWriter\n",
      "2019-03-19  오후 01:52    <DIR>          Globalization\n",
      "2019-08-28  오전 01:30    <DIR>          Help\n",
      "2019-11-24  오전 12:34         1,059,840 HelpPane.exe\n",
      "2019-03-19  오후 01:45            18,432 hh.exe\n",
      "2017-02-16  오후 07:41               666 hipiw.dll\n",
      "2019-03-19  오후 01:52    <DIR>          IdentityCRL\n",
      "2018-06-21  오전 09:28            13,424 ImageSAFERSvc.exe\n",
      "2019-03-19  오후 09:26    <DIR>          IME\n",
      "2018-06-21  오전 09:28            72,304 IMGSF50Svc.exe\n",
      "2020-02-14  오후 09:56    <DIR>          ImmersiveControlPanel\n",
      "2020-02-22  오후 05:38    <DIR>          INF\n",
      "2019-08-28  오전 02:16    <DIR>          InfusedApps\n",
      "2014-11-10  오후 01:22         1,628,456 INISandBoxMonitor.10034.exe\n",
      "2014-11-10  오후 01:22            80,680 INISBDrvUnit.10004.dll\n",
      "2014-11-10  오후 01:22           234,792 INISBDrvUnit64.10004.dll\n",
      "2019-08-28  오전 02:16    <DIR>          InputMethod\n",
      "2019-08-28  오전 02:16    <DIR>          ko\n",
      "2019-03-19  오후 09:26    <DIR>          ko-KR\n",
      "2019-03-19  오후 01:52    <DIR>          L2Schemas\n",
      "2014-10-14  오후 06:02    <DIR>          lgpslog\n",
      "2020-02-19  오후 09:35    <DIR>          LiveKernelReports\n",
      "2020-02-13  오전 12:35    <DIR>          Logs\n",
      "2016-04-08  오전 06:32    <DIR>          MediaViewer\n",
      "2020-02-13  오후 02:57       718,594,107 MEMORY.DMP\n",
      "2019-03-19  오후 01:44            43,131 mib.bin\n",
      "2020-02-21  오후 07:29    <DIR>          Microsoft.NET\n",
      "2019-03-19  오후 01:52    <DIR>          Migration\n",
      "2020-02-13  오후 02:58    <DIR>          Minidump\n",
      "2019-03-19  오후 01:52    <DIR>          ModemLogs\n",
      "2019-03-19  오후 01:45           181,248 notepad.exe\n",
      "2019-03-19  오후 09:27    <DIR>          OCR\n",
      "2016-04-08  오전 07:56               429 ODBCINST.INI\n",
      "2019-03-19  오후 01:53    <DIR>          Offline Web Pages\n",
      "2019-09-09  오후 09:25    <DIR>          Panther\n",
      "2019-03-19  오후 01:52    <DIR>          Performance\n",
      "2020-02-22  오후 05:30           464,030 PFRO.log\n",
      "2019-03-19  오후 01:52    <DIR>          PLA\n",
      "2019-11-25  오전 12:00    <DIR>          PolicyDefinitions\n",
      "2020-02-23  오전 01:35    <DIR>          Prefetch\n",
      "2020-02-14  오후 09:56    <DIR>          PrintDialog\n",
      "2019-09-24  오전 01:01    <DIR>          Provisioning\n",
      "2018-12-23  오후 10:21           908,304 py.exe\n",
      "2018-12-23  오후 10:23            60,944 pyshellext.amd64.dll\n",
      "2018-12-23  오후 10:21           908,816 pyw.exe\n",
      "2020-01-28  오전 11:12               294 RDViewer.ini\n",
      "2019-03-19  오후 01:45           358,400 regedit.exe\n",
      "2019-08-28  오전 02:52    <DIR>          Registration\n",
      "2019-03-19  오후 01:52    <DIR>          rescache\n",
      "2014-11-10  오후 01:10             4,350 rescue_inisb.reg\n",
      "2015-03-01  오후 10:32             2,364 rescue_inisb_64.reg\n",
      "2014-11-10  오후 01:10             2,828 rescue_ocx.reg\n",
      "2015-03-01  오후 10:32             2,522 rescue_ocx_64.reg\n",
      "2019-08-28  오전 01:30    <DIR>          Resources\n",
      "2017-01-19  오전 12:50         4,349,440 RtCRU64.exe\n",
      "2019-03-19  오후 01:52    <DIR>          SchCache\n",
      "2019-03-19  오후 01:52    <DIR>          schemas\n",
      "2019-03-19  오후 01:52    <DIR>          security\n",
      "2019-08-28  오전 01:30    <DIR>          ServiceProfiles\n",
      "2019-03-19  오후 01:52    <DIR>          ServiceState\n",
      "2020-02-14  오후 09:56    <DIR>          servicing\n",
      "2019-08-28  오전 02:16    <DIR>          Setup\n",
      "2019-08-28  오전 02:18                 0 setuperr.log\n",
      "2019-11-25  오전 12:00    <DIR>          ShellComponents\n",
      "2020-02-14  오후 09:56    <DIR>          ShellExperiences\n",
      "2019-03-19  오후 01:52    <DIR>          SKB\n",
      "2019-08-28  오전 02:55    <DIR>          SoftwareDistribution\n",
      "2019-03-19  오후 01:52    <DIR>          Speech\n",
      "2019-03-19  오후 01:52    <DIR>          Speech_OneCore\n",
      "2019-11-24  오전 12:27           132,608 splwow64.exe\n",
      "2019-03-19  오후 01:52    <DIR>          System\n",
      "2013-08-22  오후 10:25               219 system.ini\n",
      "2020-02-22  오후 05:38    <DIR>          System32\n",
      "2019-03-19  오후 09:27    <DIR>          SystemApps\n",
      "2020-02-14  오후 09:56    <DIR>          SystemResources\n",
      "2020-02-15  오후 12:28    <DIR>          SysWOW64\n",
      "2019-03-19  오후 01:52    <DIR>          TAPI\n",
      "2019-08-28  오전 02:32    <DIR>          Tasks\n",
      "2020-02-23  오전 01:55    <DIR>          Temp\n",
      "2019-09-24  오전 01:01    <DIR>          TextInput\n",
      "2016-03-14  오후 11:45    <DIR>          ToastData\n",
      "2019-03-19  오후 01:52    <DIR>          tracing\n",
      "2020-01-19  오후 10:55    <DIR>          twain_32\n",
      "2019-03-19  오후 01:46            64,512 twain_32.dll\n",
      "2020-02-02  오후 01:44            70,464 uninstallkdf8.exe\n",
      "2013-08-23  오전 12:36    <DIR>          vpnplugins\n",
      "2019-03-19  오후 01:52    <DIR>          Vss\n",
      "2019-03-19  오후 01:52    <DIR>          WaaS\n",
      "2019-03-19  오후 01:52    <DIR>          Web\n",
      "2013-08-22  오후 10:25                92 win.ini\n",
      "2020-02-23  오전 01:05               276 WindowsUpdate.log\n",
      "2019-03-19  오후 01:46            11,776 winhlp32.exe\n",
      "2020-02-18  오후 12:42    <DIR>          WinSxS\n",
      "2014-03-31  오후 09:34           322,248 WLXPGSS.SCR\n",
      "2019-03-19  오후 09:27           316,640 WMSysPr9.prx\n",
      "2019-03-19  오후 01:45            11,264 write.exe\n",
      "2015-06-04  오후 04:38            35,887 w_sug400wr_03.mrr\n",
      "              53개 파일         735,190,933 바이트\n",
      "              82개 디렉터리  32,298,086,400 바이트 남음\n",
      "\n"
     ]
    }
   ],
   "source": [
    "print(f.read())"
   ]
  },
  {
   "cell_type": "markdown",
   "metadata": {},
   "source": [
    "### shutil\n",
    "파일을 복사해 주는 파이썬 모듈"
   ]
  },
  {
   "cell_type": "code",
   "execution_count": null,
   "metadata": {},
   "outputs": [],
   "source": [
    "# src라는 이름의 파일을 dst로 복사한다\n",
    "import shutil\n",
    "shutil.copy(\"src.txt\",\"dst.txt\")"
   ]
  },
  {
   "cell_type": "markdown",
   "metadata": {},
   "source": [
    "### glob\n",
    "특정 디렉터리에 있는 파일 이름 모두를 알아야 할 때가 있다 이럴 때 사용하는 모듈"
   ]
  },
  {
   "cell_type": "code",
   "execution_count": 16,
   "metadata": {},
   "outputs": [
    {
     "data": {
      "text/plain": [
       "'C:\\\\Users\\\\hyojung\\\\AppData\\\\Local\\\\Temp\\\\tmp0yf2tiob'"
      ]
     },
     "execution_count": 16,
     "metadata": {},
     "output_type": "execute_result"
    }
   ],
   "source": [
    "import tempfile\n",
    "filename=tempfile.mktemp()\n",
    "filename"
   ]
  },
  {
   "cell_type": "code",
   "execution_count": 17,
   "metadata": {},
   "outputs": [
    {
     "data": {
      "text/plain": [
       "<bound method _TemporaryFileWrapper.close of <tempfile._TemporaryFileWrapper object at 0x000001F2BC32CD48>>"
      ]
     },
     "execution_count": 17,
     "metadata": {},
     "output_type": "execute_result"
    }
   ],
   "source": [
    "# 기본적으로 바이너리 쓰기 모드를 가진다\n",
    "import tempfile\n",
    "f=tempfile.TemporaryFile()\n",
    "f.close"
   ]
  },
  {
   "cell_type": "markdown",
   "metadata": {},
   "source": [
    "### time\n",
    "시간과 관련된 모듈"
   ]
  },
  {
   "cell_type": "markdown",
   "metadata": {},
   "source": [
    "#### time.time\n",
    "현재시간을 실수로 리턴하는 함수"
   ]
  },
  {
   "cell_type": "code",
   "execution_count": 18,
   "metadata": {},
   "outputs": [
    {
     "data": {
      "text/plain": [
       "1582391067.1065145"
      ]
     },
     "execution_count": 18,
     "metadata": {},
     "output_type": "execute_result"
    }
   ],
   "source": [
    "import time\n",
    "time.time()"
   ]
  },
  {
   "cell_type": "code",
   "execution_count": 19,
   "metadata": {},
   "outputs": [
    {
     "data": {
      "text/plain": [
       "time.struct_time(tm_year=2020, tm_mon=2, tm_mday=23, tm_hour=2, tm_min=4, tm_sec=52, tm_wday=6, tm_yday=54, tm_isdst=0)"
      ]
     },
     "execution_count": 19,
     "metadata": {},
     "output_type": "execute_result"
    }
   ],
   "source": [
    "time.localtime(time.time())"
   ]
  },
  {
   "cell_type": "code",
   "execution_count": 20,
   "metadata": {},
   "outputs": [
    {
     "data": {
      "text/plain": [
       "'Sun Feb 23 02:05:11 2020'"
      ]
     },
     "execution_count": 20,
     "metadata": {},
     "output_type": "execute_result"
    }
   ],
   "source": [
    "time.asctime(time.localtime(time.time()))"
   ]
  },
  {
   "cell_type": "code",
   "execution_count": 21,
   "metadata": {},
   "outputs": [
    {
     "data": {
      "text/plain": [
       "'Sun Feb 23 02:05:21 2020'"
      ]
     },
     "execution_count": 21,
     "metadata": {},
     "output_type": "execute_result"
    }
   ],
   "source": [
    "#ctime은 항상 현재 시간만을 리턴한다\n",
    "time.ctime()"
   ]
  },
  {
   "cell_type": "code",
   "execution_count": 24,
   "metadata": {},
   "outputs": [
    {
     "data": {
      "text/plain": [
       "'02/23/20'"
      ]
     },
     "execution_count": 24,
     "metadata": {},
     "output_type": "execute_result"
    }
   ],
   "source": [
    "# time.strftime('출력할 형식 포맷 코드', time.localtime(time.time()))\n",
    "time.strftime('%x', time.localtime(time.time()))"
   ]
  },
  {
   "cell_type": "code",
   "execution_count": 25,
   "metadata": {},
   "outputs": [
    {
     "data": {
      "text/plain": [
       "'Sun Feb 23 02:07:52 2020'"
      ]
     },
     "execution_count": 25,
     "metadata": {},
     "output_type": "execute_result"
    }
   ],
   "source": [
    "time.strftime('%c', time.localtime(time.time()))"
   ]
  },
  {
   "cell_type": "code",
   "execution_count": 26,
   "metadata": {},
   "outputs": [
    {
     "name": "stdout",
     "output_type": "stream",
     "text": [
      "0\n",
      "1\n",
      "2\n",
      "3\n",
      "4\n",
      "5\n",
      "6\n",
      "7\n",
      "8\n",
      "9\n"
     ]
    }
   ],
   "source": [
    "import time\n",
    "for i in range(10):\n",
    "    print(i)\n",
    "    time.sleep(1)"
   ]
  },
  {
   "cell_type": "markdown",
   "metadata": {},
   "source": [
    "### calendar\n",
    "달력을 볼 수 있게 해주는 모듈"
   ]
  },
  {
   "cell_type": "code",
   "execution_count": 27,
   "metadata": {},
   "outputs": [
    {
     "name": "stdout",
     "output_type": "stream",
     "text": [
      "                                  2015\n",
      "\n",
      "      January                   February                   March\n",
      "Mo Tu We Th Fr Sa Su      Mo Tu We Th Fr Sa Su      Mo Tu We Th Fr Sa Su\n",
      "          1  2  3  4                         1                         1\n",
      " 5  6  7  8  9 10 11       2  3  4  5  6  7  8       2  3  4  5  6  7  8\n",
      "12 13 14 15 16 17 18       9 10 11 12 13 14 15       9 10 11 12 13 14 15\n",
      "19 20 21 22 23 24 25      16 17 18 19 20 21 22      16 17 18 19 20 21 22\n",
      "26 27 28 29 30 31         23 24 25 26 27 28         23 24 25 26 27 28 29\n",
      "                                                    30 31\n",
      "\n",
      "       April                      May                       June\n",
      "Mo Tu We Th Fr Sa Su      Mo Tu We Th Fr Sa Su      Mo Tu We Th Fr Sa Su\n",
      "       1  2  3  4  5                   1  2  3       1  2  3  4  5  6  7\n",
      " 6  7  8  9 10 11 12       4  5  6  7  8  9 10       8  9 10 11 12 13 14\n",
      "13 14 15 16 17 18 19      11 12 13 14 15 16 17      15 16 17 18 19 20 21\n",
      "20 21 22 23 24 25 26      18 19 20 21 22 23 24      22 23 24 25 26 27 28\n",
      "27 28 29 30               25 26 27 28 29 30 31      29 30\n",
      "\n",
      "        July                     August                  September\n",
      "Mo Tu We Th Fr Sa Su      Mo Tu We Th Fr Sa Su      Mo Tu We Th Fr Sa Su\n",
      "       1  2  3  4  5                      1  2          1  2  3  4  5  6\n",
      " 6  7  8  9 10 11 12       3  4  5  6  7  8  9       7  8  9 10 11 12 13\n",
      "13 14 15 16 17 18 19      10 11 12 13 14 15 16      14 15 16 17 18 19 20\n",
      "20 21 22 23 24 25 26      17 18 19 20 21 22 23      21 22 23 24 25 26 27\n",
      "27 28 29 30 31            24 25 26 27 28 29 30      28 29 30\n",
      "                          31\n",
      "\n",
      "      October                   November                  December\n",
      "Mo Tu We Th Fr Sa Su      Mo Tu We Th Fr Sa Su      Mo Tu We Th Fr Sa Su\n",
      "          1  2  3  4                         1          1  2  3  4  5  6\n",
      " 5  6  7  8  9 10 11       2  3  4  5  6  7  8       7  8  9 10 11 12 13\n",
      "12 13 14 15 16 17 18       9 10 11 12 13 14 15      14 15 16 17 18 19 20\n",
      "19 20 21 22 23 24 25      16 17 18 19 20 21 22      21 22 23 24 25 26 27\n",
      "26 27 28 29 30 31         23 24 25 26 27 28 29      28 29 30 31\n",
      "                          30\n",
      "\n"
     ]
    }
   ],
   "source": [
    "import calendar\n",
    "print(calendar.calendar(2015))\n"
   ]
  },
  {
   "cell_type": "code",
   "execution_count": 28,
   "metadata": {},
   "outputs": [
    {
     "name": "stdout",
     "output_type": "stream",
     "text": [
      "                                  2015\n",
      "\n",
      "      January                   February                   March\n",
      "Mo Tu We Th Fr Sa Su      Mo Tu We Th Fr Sa Su      Mo Tu We Th Fr Sa Su\n",
      "          1  2  3  4                         1                         1\n",
      " 5  6  7  8  9 10 11       2  3  4  5  6  7  8       2  3  4  5  6  7  8\n",
      "12 13 14 15 16 17 18       9 10 11 12 13 14 15       9 10 11 12 13 14 15\n",
      "19 20 21 22 23 24 25      16 17 18 19 20 21 22      16 17 18 19 20 21 22\n",
      "26 27 28 29 30 31         23 24 25 26 27 28         23 24 25 26 27 28 29\n",
      "                                                    30 31\n",
      "\n",
      "       April                      May                       June\n",
      "Mo Tu We Th Fr Sa Su      Mo Tu We Th Fr Sa Su      Mo Tu We Th Fr Sa Su\n",
      "       1  2  3  4  5                   1  2  3       1  2  3  4  5  6  7\n",
      " 6  7  8  9 10 11 12       4  5  6  7  8  9 10       8  9 10 11 12 13 14\n",
      "13 14 15 16 17 18 19      11 12 13 14 15 16 17      15 16 17 18 19 20 21\n",
      "20 21 22 23 24 25 26      18 19 20 21 22 23 24      22 23 24 25 26 27 28\n",
      "27 28 29 30               25 26 27 28 29 30 31      29 30\n",
      "\n",
      "        July                     August                  September\n",
      "Mo Tu We Th Fr Sa Su      Mo Tu We Th Fr Sa Su      Mo Tu We Th Fr Sa Su\n",
      "       1  2  3  4  5                      1  2          1  2  3  4  5  6\n",
      " 6  7  8  9 10 11 12       3  4  5  6  7  8  9       7  8  9 10 11 12 13\n",
      "13 14 15 16 17 18 19      10 11 12 13 14 15 16      14 15 16 17 18 19 20\n",
      "20 21 22 23 24 25 26      17 18 19 20 21 22 23      21 22 23 24 25 26 27\n",
      "27 28 29 30 31            24 25 26 27 28 29 30      28 29 30\n",
      "                          31\n",
      "\n",
      "      October                   November                  December\n",
      "Mo Tu We Th Fr Sa Su      Mo Tu We Th Fr Sa Su      Mo Tu We Th Fr Sa Su\n",
      "          1  2  3  4                         1          1  2  3  4  5  6\n",
      " 5  6  7  8  9 10 11       2  3  4  5  6  7  8       7  8  9 10 11 12 13\n",
      "12 13 14 15 16 17 18       9 10 11 12 13 14 15      14 15 16 17 18 19 20\n",
      "19 20 21 22 23 24 25      16 17 18 19 20 21 22      21 22 23 24 25 26 27\n",
      "26 27 28 29 30 31         23 24 25 26 27 28 29      28 29 30 31\n",
      "                          30\n"
     ]
    }
   ],
   "source": [
    "calendar.prcal(2015)"
   ]
  },
  {
   "cell_type": "code",
   "execution_count": 29,
   "metadata": {},
   "outputs": [
    {
     "name": "stdout",
     "output_type": "stream",
     "text": [
      "   December 2015\n",
      "Mo Tu We Th Fr Sa Su\n",
      "    1  2  3  4  5  6\n",
      " 7  8  9 10 11 12 13\n",
      "14 15 16 17 18 19 20\n",
      "21 22 23 24 25 26 27\n",
      "28 29 30 31\n"
     ]
    }
   ],
   "source": [
    "calendar.prmonth(2015,12)"
   ]
  },
  {
   "cell_type": "code",
   "execution_count": 30,
   "metadata": {},
   "outputs": [
    {
     "data": {
      "text/plain": [
       "3"
      ]
     },
     "execution_count": 30,
     "metadata": {},
     "output_type": "execute_result"
    }
   ],
   "source": [
    "# 해당하는 요일 리턴\n",
    "\n",
    "calendar.weekday(2015,12,31)"
   ]
  },
  {
   "cell_type": "code",
   "execution_count": 31,
   "metadata": {},
   "outputs": [
    {
     "data": {
      "text/plain": [
       "(1, 31)"
      ]
     },
     "execution_count": 31,
     "metadata": {},
     "output_type": "execute_result"
    }
   ],
   "source": [
    "calendar.monthrange(2015,12)"
   ]
  },
  {
   "cell_type": "markdown",
   "metadata": {},
   "source": [
    "### random\n",
    "난수를 발생시키는 모듈"
   ]
  },
  {
   "cell_type": "code",
   "execution_count": 32,
   "metadata": {},
   "outputs": [
    {
     "data": {
      "text/plain": [
       "0.4524888019230493"
      ]
     },
     "execution_count": 32,
     "metadata": {},
     "output_type": "execute_result"
    }
   ],
   "source": [
    "import random\n",
    "random.random()"
   ]
  },
  {
   "cell_type": "code",
   "execution_count": 34,
   "metadata": {},
   "outputs": [
    {
     "data": {
      "text/plain": [
       "2"
      ]
     },
     "execution_count": 34,
     "metadata": {},
     "output_type": "execute_result"
    }
   ],
   "source": [
    "# 정수값 중에 난수값을 리턴\n",
    "random.randint(1,10)"
   ]
  },
  {
   "cell_type": "code",
   "execution_count": 35,
   "metadata": {},
   "outputs": [
    {
     "data": {
      "text/plain": [
       "[3, 4, 5, 1, 2]"
      ]
     },
     "execution_count": 35,
     "metadata": {},
     "output_type": "execute_result"
    }
   ],
   "source": [
    "import random\n",
    "data=[1,2,3,4,5]\n",
    "random.shuffle(data)\n",
    "data"
   ]
  },
  {
   "cell_type": "markdown",
   "metadata": {},
   "source": [
    "### webbrowser\n",
    "자신의 시스템에서 사용하는 기본 웹 브라우저가 자동으로 실행되게 하는 모듈"
   ]
  },
  {
   "cell_type": "code",
   "execution_count": null,
   "metadata": {},
   "outputs": [],
   "source": [
    "import webbrowser\n",
    "webbrowser.open(\"http://google.com\")"
   ]
  }
 ],
 "metadata": {
  "kernelspec": {
   "display_name": "Python 3",
   "language": "python",
   "name": "python3"
  },
  "language_info": {
   "codemirror_mode": {
    "name": "ipython",
    "version": 3
   },
   "file_extension": ".py",
   "mimetype": "text/x-python",
   "name": "python",
   "nbconvert_exporter": "python",
   "pygments_lexer": "ipython3",
   "version": "3.7.4"
  }
 },
 "nbformat": 4,
 "nbformat_minor": 2
}
