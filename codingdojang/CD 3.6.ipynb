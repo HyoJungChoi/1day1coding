{
 "cells": [
  {
   "cell_type": "markdown",
   "metadata": {},
   "source": [
    "# 1.\n",
    "\n",
    "홀수와 짝수의 개수를 구하는 프로그램을 만들어라.  \n",
    "\n",
    "[3, 4, 5, 6, 7]  \n",
    "= 홀수 3개, 짝수 2개  \n",
    "[12, 16, 22, 24, 29]  \n",
    "= 홀수 1개, 짝수 4개   \n",
    "[41, 43, 45, 47, 49]  \n",
    "= 홀수 5개, 짝수 0개  \n",
    "  \n",
    "홀수 : 2로 나누어 떨어지지 않는 정수\n",
    "짝수 : 2로 나누어 떨어지는 정수\n"
   ]
  },
  {
   "cell_type": "code",
   "execution_count": 6,
   "metadata": {},
   "outputs": [
    {
     "name": "stdout",
     "output_type": "stream",
     "text": [
      "홀수: 2 \t짝수: 3\n"
     ]
    }
   ],
   "source": [
    "n=[1,2,4,5,6]\n",
    "even=0\n",
    "odd=0\n",
    "for i in n:\n",
    "    if i%2==0:\n",
    "        even +=1\n",
    "    if i%2!=0:\n",
    "        odd +=1\n",
    "print('홀수:',odd,'\\t짝수:',even)\n",
    "    "
   ]
  },
  {
   "cell_type": "markdown",
   "metadata": {},
   "source": [
    "# 2.\n",
    "\n",
    "앞에서부터 읽을 때나 뒤에서부터 읽을 때나 모양이 같은 수를 대칭수(palindrome)라고 부릅니다. 두 자리 수를 곱해 만들 수 있는 대칭수 중 가장 큰 수는 9009 (= 91 × 99) 입니다. 세 자리 수를 곱해 만들 수 있는 가장 큰 대칭수는 얼마입니까?\n",
    "\n"
   ]
  },
  {
   "cell_type": "code",
   "execution_count": 7,
   "metadata": {},
   "outputs": [
    {
     "name": "stdout",
     "output_type": "stream",
     "text": [
      "906609\n"
     ]
    }
   ],
   "source": [
    "hub=[]\n",
    "for i in range(100,1000):\n",
    "    for j in range(100,1000):\n",
    "        if str(i*j) == str(i*j)[::-1]:# 문자열이 대칭인지 아닌지 볼 때 s[::-1]==s\n",
    "            hub.append(i*j)\n",
    "print(max(hub))"
   ]
  },
  {
   "cell_type": "markdown",
   "metadata": {},
   "source": [
    "# 3.\n",
    "\n",
    "숫자를 입력받으면 그에해당하는 자릿수를 출력하는 코드를 작성하라.\n",
    "\n",
    "입력 : 156 출력 : 100의자리수\n",
    "\n",
    "입력 : 18961 출력 : 10000의자릿수"
   ]
  },
  {
   "cell_type": "code",
   "execution_count": 12,
   "metadata": {},
   "outputs": [
    {
     "name": "stdout",
     "output_type": "stream",
     "text": [
      "숫자를 입력하세요: 1984\n",
      "1000 의 자릿수\n"
     ]
    }
   ],
   "source": [
    "num = input(\"숫자를 입력하세요: \")\n",
    "\n",
    "print(10**(len(num)-1),\"의 자릿수\")\n"
   ]
  }
 ],
 "metadata": {
  "kernelspec": {
   "display_name": "Python 3",
   "language": "python",
   "name": "python3"
  },
  "language_info": {
   "codemirror_mode": {
    "name": "ipython",
    "version": 3
   },
   "file_extension": ".py",
   "mimetype": "text/x-python",
   "name": "python",
   "nbconvert_exporter": "python",
   "pygments_lexer": "ipython3",
   "version": "3.7.4"
  }
 },
 "nbformat": 4,
 "nbformat_minor": 2
}
