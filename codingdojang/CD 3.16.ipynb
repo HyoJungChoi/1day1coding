{
 "cells": [
  {
   "cell_type": "markdown",
   "metadata": {},
   "source": [
    "# 1. 숫자열, 문자열 구별하기\n",
    "\n",
    "문자와 숫자가섞인 문자열을 입력받을때 구별하여출력해라  \n",
    "\n",
    "input:  \n",
    "\n",
    "\"c910m6ia 1ho\"  \n",
    "\n",
    "output:  \n",
    "\n",
    "str : cma ho  \n",
    "\n",
    "int : 91061  "
   ]
  },
  {
   "cell_type": "code",
   "execution_count": 7,
   "metadata": {},
   "outputs": [
    {
     "name": "stdout",
     "output_type": "stream",
     "text": [
      "c910m6ia 1ho\n",
      "str:  cmia ho\n",
      "int:  91061\n"
     ]
    }
   ],
   "source": [
    "str_input,int_input=\"\",\"\"\n",
    "for i in input():\n",
    "    try:\n",
    "        int(i)\n",
    "        int_input+=i\n",
    "    except:\n",
    "        str_input+=i\n",
    "        \n",
    "print(\"str: \",str_input)\n",
    "print(\"int: \",int_input)"
   ]
  },
  {
   "cell_type": "code",
   "execution_count": 1,
   "metadata": {},
   "outputs": [
    {
     "name": "stdout",
     "output_type": "stream",
     "text": [
      "c910m6ia 1ho\n",
      "str :  cmia ho \n",
      "int :  91061\n"
     ]
    }
   ],
   "source": [
    "inp=input()\n",
    "print('str : ',''.join(x for x in inp if not x.isdigit()),\n",
    "      '\\nint : ',''.join(x for x in inp if x.isdigit()))"
   ]
  },
  {
   "cell_type": "markdown",
   "metadata": {},
   "source": [
    "# 2. 문자열 압축하기\n",
    "\n",
    "문자열을 입력받아서, 같은 문자가 연속적으로 반복되는 경우에 그 반복 횟수를 표시하여 문자열을 압축하기.   \n",
    "\n",
    "\n",
    "입력 예시: aaabbcccccca  \n",
    "\n",
    "출력 예시: a3b2c6a1  \n",
    " \n"
   ]
  },
  {
   "cell_type": "code",
   "execution_count": 2,
   "metadata": {},
   "outputs": [
    {
     "name": "stdout",
     "output_type": "stream",
     "text": [
      "aaabbcccccca\n",
      "a3b2c6a1\n"
     ]
    }
   ],
   "source": [
    "num=input()\n",
    "result=num[0]\n",
    "count=0\n",
    "\n",
    "for i in num:\n",
    "    if i==result[-1]:\n",
    "        count+=1\n",
    "    else:\n",
    "        result+=str(count)+i\n",
    "        count=1\n",
    "result+=str(count)\n",
    "\n",
    "print(result)\n"
   ]
  }
 ],
 "metadata": {
  "kernelspec": {
   "display_name": "Python 3",
   "language": "python",
   "name": "python3"
  },
  "language_info": {
   "codemirror_mode": {
    "name": "ipython",
    "version": 3
   },
   "file_extension": ".py",
   "mimetype": "text/x-python",
   "name": "python",
   "nbconvert_exporter": "python",
   "pygments_lexer": "ipython3",
   "version": "3.7.4"
  }
 },
 "nbformat": 4,
 "nbformat_minor": 2
}
