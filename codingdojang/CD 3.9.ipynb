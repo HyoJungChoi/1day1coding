{
 "cells": [
  {
   "cell_type": "markdown",
   "metadata": {},
   "source": [
    "# 1.\n",
    "\n",
    "\n",
    "아래 조건에 따라 리스트를 회전하는 프로그램을 작성하시오.\n",
    "\n",
    "조건\n",
    "입력값은 한 행의 문자열로 주어지며, 각 값은 공백으로 구분된다.\n",
    "\n",
    "첫 번째 값은 리스트를 회전하는 양과 방향(음수의 경우 좌측으로, 양수의 경우 우측으로 회전)이다.\n",
    "\n",
    "첫 번째 값을 제외한 나머지 값은 리스트의 각 항목의 값이다.\n",
    "\n",
    "회전된 리스트를 문자열로 출력한다.\n",
    "\n",
    "구현에 이용할 자료구조에 대한 조건이나 제약은 없다.\n",
    "\n",
    "입력되는 리스트의 항목의 개수는 유한한다.\n",
    "\n",
    "입출력예\n",
    "예 1)\n",
    "\n",
    "입력: 1 10 20 30 40 50\n",
    "\n",
    "출력: 50 10 20 30 40\n",
    "\n",
    "예 2)\n",
    "\n",
    "입력: 4 가 나 다 라 마 바 사\n",
    "\n",
    "출력: 라 마 바 사 가 나 다\n",
    "\n",
    "예 3)\n",
    "\n",
    "입력: -2 A B C D E F G\n",
    "\n",
    "출력: C D E F G A B\n",
    "\n",
    "예 4)\n",
    "\n",
    "입력: 0 똘기 떵이 호치 새초미\n",
    "\n",
    "출력: 똘기 떵이 호치 새초미\n"
   ]
  },
  {
   "cell_type": "code",
   "execution_count": 17,
   "metadata": {},
   "outputs": [
    {
     "name": "stdout",
     "output_type": "stream",
     "text": [
      "5010203040\n"
     ]
    }
   ],
   "source": [
    "a='1 10 20 30 40 50'\n",
    "b=a.split(' ')\n",
    "print(str(b[5])+str(b[1])+str(b[2])+str(b[3])+str(b[4]))"
   ]
  },
  {
   "cell_type": "code",
   "execution_count": 18,
   "metadata": {},
   "outputs": [
    {
     "name": "stdout",
     "output_type": "stream",
     "text": [
      "회전수와 문자열을 입력하세요. : -2 i miss you so much\n",
      "you so much i miss\n"
     ]
    }
   ],
   "source": [
    "data = input('회전수와 문자열을 입력하세요. : ').split()\n",
    "rn = int(data.pop(0)) % len(data)\n",
    "print(' '.join([(data*3)[len(data) + i - rn] for i in range(len(data))]))"
   ]
  },
  {
   "cell_type": "code",
   "execution_count": 19,
   "metadata": {},
   "outputs": [
    {
     "name": "stdout",
     "output_type": "stream",
     "text": [
      "Input : 1 10 20 30 40 50\n",
      "Output : 50 10 20 30 40\n"
     ]
    }
   ],
   "source": [
    "import collections\n",
    "datas = input(\"Input : \").split(\" \")\n",
    "cycleList = collections.deque(datas[1:])\n",
    "cycleList.rotate(int(datas[0]))\n",
    "print(\"Output :\", \" \".join(cycleList))"
   ]
  },
  {
   "attachments": {},
   "cell_type": "markdown",
   "metadata": {},
   "source": [
    "# 2.\n",
    "\n",
    "문자열 형식으로 입력 받은 모스코드(dot: . dash:-)를 해독하여 영어 문장으로 출력하는 프로그램을 작성하시오.\n",
    "\n",
    "글자와 글자 사이는 공백 하나, 단어와 단어 사이는 공백 두개로 구분한다.\n",
    "\n",
    "예를 들어 다음 모스부호는 \"he sleeps early\"로 해석해야 한다.\n",
    "\n",
    ".... .  ... .-.. . . .--. ...  . .- .-. .-.. -.--\n",
    "\n",
    "\n",
    "![mos](./images/mos.png)\n",
    "\n"
   ]
  },
  {
   "cell_type": "code",
   "execution_count": 21,
   "metadata": {},
   "outputs": [
    {
     "name": "stdout",
     "output_type": "stream",
     "text": [
      "HE SLEEPS EARLY \n"
     ]
    }
   ],
   "source": [
    "dic = {\n",
    "    '.-':'A','-...':'B','-.-.':'C','-..':'D','.':'E','..-.':'F',\n",
    "    '--.':'G','....':'H','..':'I','.---':'J','-.-':'K','.-..':'L',\n",
    "    '--':'M','-.':'N','---':'O','.--.':'P','--.-':'Q','.-.':'R',\n",
    "    '...':'S','-':'T','..-':'U','...-':'V','.--':'W','-..-':'X',\n",
    "    '-.--':'Y','--..':'Z'\n",
    "}\n",
    "\n",
    "def morse(src):\n",
    "    result = []\n",
    "    for word in src.split(\"  \"):\n",
    "        for char in word.split(\" \"):\n",
    "            result.append(dic[char])\n",
    "        result.append(\" \")\n",
    "    return \"\".join(result)\n",
    "\n",
    "\n",
    "print( morse('.... .  ... .-.. . . .--. ...  . .- .-. .-.. -.--'))"
   ]
  },
  {
   "cell_type": "markdown",
   "metadata": {},
   "source": [
    "# 3. \n",
    "\n",
    "2이상 1000이하 자연수의 집합에서 소수의 개수를 구하는 알고리즘을 작성하시오."
   ]
  },
  {
   "cell_type": "code",
   "execution_count": 28,
   "metadata": {},
   "outputs": [
    {
     "name": "stdout",
     "output_type": "stream",
     "text": [
      "168\n"
     ]
    }
   ],
   "source": [
    "def sieve(n):\n",
    "    if n < 2:\n",
    "        return []\n",
    "    s = [0, 0] + [1] * (n - 1)\n",
    "    for i in range(2, int(n**.5)+1):\n",
    "        if s[i]:\n",
    "            s[i*2::i] = [0] * ((n - i)//i)\n",
    "    return [i for i, v in enumerate(s) if v]\n",
    "\n",
    "print(len(sieve(1000)))"
   ]
  },
  {
   "cell_type": "code",
   "execution_count": 29,
   "metadata": {},
   "outputs": [
    {
     "data": {
      "text/plain": [
       "[0, 0, 1, 1]"
      ]
     },
     "execution_count": 29,
     "metadata": {},
     "output_type": "execute_result"
    }
   ],
   "source": [
    "[0,0]+[1]*2"
   ]
  },
  {
   "cell_type": "code",
   "execution_count": 31,
   "metadata": {},
   "outputs": [
    {
     "data": {
      "text/plain": [
       "2"
      ]
     },
     "execution_count": 31,
     "metadata": {},
     "output_type": "execute_result"
    }
   ],
   "source": [
    "int(2**.5)+1"
   ]
  }
 ],
 "metadata": {
  "kernelspec": {
   "display_name": "Python 3",
   "language": "python",
   "name": "python3"
  },
  "language_info": {
   "codemirror_mode": {
    "name": "ipython",
    "version": 3
   },
   "file_extension": ".py",
   "mimetype": "text/x-python",
   "name": "python",
   "nbconvert_exporter": "python",
   "pygments_lexer": "ipython3",
   "version": "3.7.4"
  }
 },
 "nbformat": 4,
 "nbformat_minor": 2
}
