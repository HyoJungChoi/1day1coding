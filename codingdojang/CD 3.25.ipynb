{
 "cells": [
  {
   "cell_type": "markdown",
   "metadata": {},
   "source": [
    "# 사각형 넓이 구하기 (수정 필요)"
   ]
  },
  {
   "cell_type": "markdown",
   "metadata": {},
   "source": [
    "각 변이 x, y축과 평행한 직사각형들이 주어질 때, 좌표평면에서 이 직사각형들이 차지하는 넓이를 구하시오.  \n",
    "\n",
    "\n",
    "\n",
    "(겹치는 부분은 한 번만 계산할 것)  \n",
    "\n",
    "\n",
    "입력으로 사각형 하나당 한 줄씩, 왼쪽 아래 꼭지점(x1, y1)과 오른쪽 위 꼭지점(x2, y2) 좌표가 주어진다.  \n",
    "\n",
    "\n",
    "단, 모든 좌표는 0 이상의 실수이다.  \n",
    "\n",
    " \n",
    "\n",
    "출력은 소수점 둘째 자리까지 출력한다.\n",
    "\n",
    "\n",
    "\n",
    "입력:  \n",
    "\n",
    "\n",
    "0.0 0.0 4.0 4.0  \n",
    "1.0 1.0 3.0 3.0   \n",
    "\n",
    "출력:  \n",
    "\n",
    "\n",
    "16.00  \n",
    "\n",
    "\n",
    "입력:  \n",
    "\n",
    "\n",
    "1.0 0.0 5.0 2.0  \n",
    "2.0 0.0 4.0 5.0  \n",
    "0.0 1.0 6.0 3.0  \n",
    "10.0 10.0 12.0 12.0  \n",
    "\n",
    "출력:  \n",
    "\n",
    "\n",
    "24.00"
   ]
  },
  {
   "cell_type": "code",
   "execution_count": 19,
   "metadata": {},
   "outputs": [
    {
     "name": "stdout",
     "output_type": "stream",
     "text": [
      "Point 1's X: 0.0\n",
      "Point 1's Y: 0.0\n",
      "Point 2's X: 4.0\n",
      "Point 2's Y: 4.0\n",
      "Point 3's X: 1.0\n",
      "Point 3's Y: 1.0\n",
      "Point 4's X: 3.0\n",
      "Point 4's Y: 3.0\n",
      "[[0.0, 0.0], [4.0, 4.0], [1.0, 1.0], [3.0, 3.0]]\n",
      "0.0\n"
     ]
    }
   ],
   "source": [
    "list_xy = []\n",
    "\n",
    "for i in range (1, 5): \n",
    "    list_comp = [] \n",
    "    x = input(\"Point %s's X: \" % i) \n",
    "    list_comp.append(float(x)) \n",
    "    y = input(\"Point %s's Y: \" % i) \n",
    "    list_comp.append(float(y)) \n",
    "    list_xy.append(list_comp)\n",
    "\n",
    "print (list_xy)\n",
    "\n",
    "squr_k = float(0)\n",
    "\n",
    "for i in range(3): \n",
    "    squr_k = squr_k + (list_xy[i][0] * list_xy[i+1][1]) \n",
    "    squr_k = squr_k - (list_xy[i+1][0] * list_xy[i][1])\n",
    "\n",
    "squr_K = squr_k + (list_xy[3][0] * list_xy[0][1]) - (list_xy[0][0] * list_xy[3][1]) \n",
    "squr_k = abs(squr_k) * 1/2\n",
    "\n",
    "print (round(squr_k, 2))"
   ]
  },
  {
   "cell_type": "code",
   "execution_count": 26,
   "metadata": {},
   "outputs": [
    {
     "name": "stdout",
     "output_type": "stream",
     "text": [
      "몇 줄인가요?2\n",
      "0.0 0.0 4.0 4.0\n",
      "1.0 1.0 3.0 3.0\n",
      "9\n"
     ]
    }
   ],
   "source": [
    "q=0\n",
    "n=int(input(\"몇 줄인가요?\"))\n",
    "data=[]\n",
    "while q<n:\n",
    "    \n",
    "    s=list(input().split(' '))\n",
    "    x1=float(s[0])\n",
    "    y1=float(s[1])\n",
    "    x2=float(s[2])\n",
    "    y2=float(s[3])\n",
    "    \n",
    "    for i in range(0,n+1):\n",
    "        for j in range(0,n+1):\n",
    "            x=(i,j)\n",
    "            data.append(x)\n",
    "    q+=1\n",
    "    \n",
    "data2=set(data)\n",
    "area=len(data2)\n",
    "print(area)\n"
   ]
  },
  {
   "cell_type": "code",
   "execution_count": 27,
   "metadata": {},
   "outputs": [
    {
     "data": {
      "text/plain": [
       "[(0, 0),\n",
       " (0, 1),\n",
       " (0, 2),\n",
       " (1, 0),\n",
       " (1, 1),\n",
       " (1, 2),\n",
       " (2, 0),\n",
       " (2, 1),\n",
       " (2, 2),\n",
       " (0, 0),\n",
       " (0, 1),\n",
       " (0, 2),\n",
       " (1, 0),\n",
       " (1, 1),\n",
       " (1, 2),\n",
       " (2, 0),\n",
       " (2, 1),\n",
       " (2, 2)]"
      ]
     },
     "execution_count": 27,
     "metadata": {},
     "output_type": "execute_result"
    }
   ],
   "source": [
    "data"
   ]
  }
 ],
 "metadata": {
  "kernelspec": {
   "display_name": "Python 3",
   "language": "python",
   "name": "python3"
  },
  "language_info": {
   "codemirror_mode": {
    "name": "ipython",
    "version": 3
   },
   "file_extension": ".py",
   "mimetype": "text/x-python",
   "name": "python",
   "nbconvert_exporter": "python",
   "pygments_lexer": "ipython3",
   "version": "3.7.6"
  }
 },
 "nbformat": 4,
 "nbformat_minor": 4
}
