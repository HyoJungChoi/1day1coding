{
 "cells": [
  {
   "cell_type": "markdown",
   "metadata": {},
   "source": [
    "# 1. Every Other Digit\n",
    "\n",
    "모든 짝수번째 숫자를 * 로 치환하시오.(홀수번째 숫자,또는 짝수번째 문자를 치환하면 안됩니다.)  \n",
    "\n",
    "Example: a1b2cde3 ~ g45hi6 → a* b* cde*~g4*hi6"
   ]
  },
  {
   "cell_type": "code",
   "execution_count": 2,
   "metadata": {},
   "outputs": [],
   "source": [
    "def fun(s):\n",
    "    l=list(s)\n",
    "    for i in range(1,len(l),2):\n",
    "        if l[i].isdigit():\n",
    "            l[i]='*'\n",
    "    return ''.join(l)"
   ]
  },
  {
   "cell_type": "code",
   "execution_count": 5,
   "metadata": {},
   "outputs": [
    {
     "name": "stdout",
     "output_type": "stream",
     "text": [
      "a*b*cde*~g4*hi6\n"
     ]
    }
   ],
   "source": [
    "s='a1b2cde3~g45hi6'\n",
    "print(fun(s))"
   ]
  },
  {
   "cell_type": "code",
   "execution_count": 7,
   "metadata": {},
   "outputs": [
    {
     "data": {
      "text/plain": [
       "'de3f4*5dgh'"
      ]
     },
     "execution_count": 7,
     "metadata": {},
     "output_type": "execute_result"
    }
   ],
   "source": [
    "j='de3f445dgh'\n",
    "fun(j)"
   ]
  },
  {
   "cell_type": "markdown",
   "metadata": {},
   "source": [
    "# 2. 다음 디브온 코드골프 문제\n",
    "\n",
    "[출처](http://agile.egloos.com/5774107)  \n",
    "\n",
    "![div](./images/div.png)\n",
    "\n"
   ]
  },
  {
   "cell_type": "code",
   "execution_count": 5,
   "metadata": {},
   "outputs": [
    {
     "name": "stdout",
     "output_type": "stream",
     "text": [
      "     *     \n",
      "     *     \n",
      "    * *    \n",
      "   *   *   \n",
      "  *     *  \n",
      "**       **\n",
      "  *     *  \n",
      "   *   *   \n",
      "    * *    \n",
      "     *     \n",
      "     *     \n"
     ]
    }
   ],
   "source": [
    "r=range(-5,6)\n",
    "for y in r:\n",
    "    l=\"\"\n",
    "    for x in r:\n",
    "        a,b=abs(x),abs(y)\n",
    "        l+=(\" \",\"*\")[a+b==4 or (5,0)in[(a,b),(b,a)]]\n",
    "    print(l)"
   ]
  },
  {
   "cell_type": "markdown",
   "metadata": {},
   "source": [
    "1. 들여쓰기: 첫번째 들여쓰기는 ' '(공백한개), 두번째 들여쓰기는 탭(\\t)문자  \n",
    "\n",
    "2. (a,b)[조건식]: 조건식이 참인 경우 1 이되어 b, 조건식이 거짓인 경우 0 이되어 a\n",
    "\n",
    "{(0,5),(-5,0)} 을 제외한 (a,b) {(0,4),(1,3)...}는 a+b=4임을 응용"
   ]
  },
  {
   "cell_type": "code",
   "execution_count": 6,
   "metadata": {},
   "outputs": [
    {
     "data": {
      "text/plain": [
       "1"
      ]
     },
     "execution_count": 6,
     "metadata": {},
     "output_type": "execute_result"
    }
   ],
   "source": [
    "x=-1\n",
    "abs(x)"
   ]
  }
 ],
 "metadata": {
  "kernelspec": {
   "display_name": "Python 3",
   "language": "python",
   "name": "python3"
  },
  "language_info": {
   "codemirror_mode": {
    "name": "ipython",
    "version": 3
   },
   "file_extension": ".py",
   "mimetype": "text/x-python",
   "name": "python",
   "nbconvert_exporter": "python",
   "pygments_lexer": "ipython3",
   "version": "3.7.4"
  }
 },
 "nbformat": 4,
 "nbformat_minor": 2
}
