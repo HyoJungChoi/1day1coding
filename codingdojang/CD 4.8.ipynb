{
 "cells": [
  {
   "cell_type": "markdown",
   "metadata": {},
   "source": [
    "# 다음 입사문제 중에서"
   ]
  },
  {
   "cell_type": "markdown",
   "metadata": {},
   "source": [
    "1차원의 점들이 주어졌을 때, 그 중 가장 거리가 짧은 것의 쌍을 출력하는 함수를 작성하시오. (단 점들의 배열은 모두 정렬되어있다고 가정한다.)  \n",
    "\n",
    "\n",
    "\n",
    "예를들어 S={1, 3, 4, 8, 13, 17, 20} 이 주어졌다면, 결과값은 (3, 4)가 될 것이다."
   ]
  },
  {
   "cell_type": "code",
   "execution_count": 36,
   "metadata": {},
   "outputs": [
    {
     "name": "stdout",
     "output_type": "stream",
     "text": [
      "1, 3, 4, 8, 13, 17, 20\n",
      "[2, 3, 7, 12, 16, 19, 1, 5, 10, 14, 17, 4, 9, 13, 16, 5, 9, 12, 4, 7, 3]\n"
     ]
    }
   ],
   "source": [
    "s=list(input().split(','))\n",
    "\n",
    "result=[]\n",
    "\n",
    "for i in range(0,len(s)):\n",
    "    for j in range(i+1,len(s)):\n",
    "        pairs=list(zip(s[i],s[j]))\n",
    "\n",
    "        s1=abs(int(s[i])-int(s[j]))\n",
    "        \n",
    "        result.append(s1)\n",
    "        \n",
    "print(result)\n"
   ]
  },
  {
   "cell_type": "code",
   "execution_count": 43,
   "metadata": {},
   "outputs": [
    {
     "name": "stdout",
     "output_type": "stream",
     "text": [
      "1\n"
     ]
    }
   ],
   "source": [
    "result.sort()\n",
    "print(result[0])"
   ]
  },
  {
   "cell_type": "code",
   "execution_count": 44,
   "metadata": {},
   "outputs": [
    {
     "name": "stdout",
     "output_type": "stream",
     "text": [
      "[(3, 4)]\n"
     ]
    }
   ],
   "source": [
    "def spair(S):\n",
    "    dict = {}\n",
    "    for (x, y) in zip(S[:-1], S[1:]):\n",
    "        if not dict.get(y-x):\n",
    "            dict[y-x] = [(x,y)]\n",
    "        else:\n",
    "            dict[y-x] = dict[y-x] + [(x,y)]\n",
    "\n",
    "    return dict[min(dict.keys())]\n",
    "\n",
    "S = [1, 3, 4, 8, 13, 17, 20] \n",
    "#S = [1,2,4,5,8,15,19]\n",
    "print(spair(S))"
   ]
  }
 ],
 "metadata": {
  "kernelspec": {
   "display_name": "Python 3",
   "language": "python",
   "name": "python3"
  },
  "language_info": {
   "codemirror_mode": {
    "name": "ipython",
    "version": 3
   },
   "file_extension": ".py",
   "mimetype": "text/x-python",
   "name": "python",
   "nbconvert_exporter": "python",
   "pygments_lexer": "ipython3",
   "version": "3.7.6"
  }
 },
 "nbformat": 4,
 "nbformat_minor": 4
}
