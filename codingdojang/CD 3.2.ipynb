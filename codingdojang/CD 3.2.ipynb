{
 "cells": [
  {
   "cell_type": "markdown",
   "metadata": {},
   "source": [
    "# 1.\n",
    "If we list all the natural numbers below 10 that are multiples of 3 or 5, we get 3, 5, 6 and 9. The sum of these multiples is 23.\n",
    "\n",
    "Find the sum of all the multiples of 3 or 5 below 1000.\n"
   ]
  },
  {
   "cell_type": "code",
   "execution_count": 1,
   "metadata": {},
   "outputs": [
    {
     "data": {
      "text/plain": [
       "233168"
      ]
     },
     "execution_count": 1,
     "metadata": {},
     "output_type": "execute_result"
    }
   ],
   "source": [
    "sum([x for x in range(1000) if x%3==0 or x%5==0])"
   ]
  },
  {
   "cell_type": "markdown",
   "metadata": {},
   "source": [
    "# 2.\n",
    "이유덕,이재영,권종표,이재영,박민호,강상희,이재영,김지완,최승혁,이성연,박영서,박민호,전경헌,송정환,김재성,이유덕,전경헌  \n",
    "  \n",
    "1.김씨와 이씨는 각각 몇 명 인가요?  \n",
    "2.\"이재영\"이란 이름이 몇 번 반복되나요?  \n",
    "3.중복을 제거한 이름을 출력하세요.  \n",
    "4.중복을 제거한 이름을 오름차순으로 정렬하여 출력하세요.\n"
   ]
  },
  {
   "cell_type": "code",
   "execution_count": 15,
   "metadata": {},
   "outputs": [],
   "source": [
    "A=[\"이유덕\",\"이재영\",\"권종표\",\"이재영\",\"박민호\",\"강상희\",\"이재영\",\"김지완\",\"최승혁\"\n",
    "   ,\"이성연\",\"박영서\",\"박민호\",\"전경헌\",\"송정환\",\"김재성\",\"이유덕\",\"전경헌\"]\n"
   ]
  },
  {
   "cell_type": "code",
   "execution_count": 18,
   "metadata": {},
   "outputs": [
    {
     "name": "stdout",
     "output_type": "stream",
     "text": [
      "2\n",
      "6\n",
      "3\n"
     ]
    }
   ],
   "source": [
    "# 1&2\n",
    "ck=0\n",
    "cl=0\n",
    "cjy=0\n",
    "for name in A:\n",
    "    if name[0]==\"김\":\n",
    "        ck+=1\n",
    "    if name[0]==\"이\":\n",
    "        cl+=1\n",
    "    if name==\"이재영\":\n",
    "        cjy+=1\n",
    "print(ck)\n",
    "print(cl)\n",
    "print(cjy)"
   ]
  },
  {
   "cell_type": "code",
   "execution_count": 51,
   "metadata": {},
   "outputs": [
    {
     "name": "stdout",
     "output_type": "stream",
     "text": [
      "{'박민호', '박영서', '권종표', '이성연', '이유덕', '김지완', '이재영', '최승혁', '김재성', '송정환', '전경헌', '강상희'}\n"
     ]
    }
   ],
   "source": [
    "# 3\n",
    "print(set(A))"
   ]
  },
  {
   "cell_type": "code",
   "execution_count": 50,
   "metadata": {},
   "outputs": [
    {
     "name": "stdout",
     "output_type": "stream",
     "text": [
      "['강상희', '권종표', '김재성', '김지완', '박민호', '박민호', '박영서', '송정환', '이성연', '이유덕', '이유덕', '이재영', '이재영', '이재영', '전경헌', '전경헌', '최승혁']\n"
     ]
    }
   ],
   "source": [
    "# 4\n",
    "A.sort()\n",
    "print(A)"
   ]
  },
  {
   "cell_type": "markdown",
   "metadata": {},
   "source": [
    "# 3.\n",
    "n개의 정수를 가진 배열이 있다. 이 배열은 양의정수와 음의 정수를 모두 가지고 있다. 이제 당신은 이 배열을 좀 특별한 방법으로 정렬해야 한다. \n",
    "\n",
    "정렬이 되고 난 후, 음의 정수는 앞쪽에 양의정수는 뒷쪽에 있어야 한다. 또한 양의정수와 음의정수의 순서에는 변함이 없어야 한다.\n"
   ]
  },
  {
   "cell_type": "code",
   "execution_count": 46,
   "metadata": {},
   "outputs": [
    {
     "name": "stdout",
     "output_type": "stream",
     "text": [
      "[-5, -1, -3, -6, 1, 2, 3, 4, 7, 8, 2, 3]\n"
     ]
    }
   ],
   "source": [
    "list=[1,2,3,-5,-1,-3,4,-6,7,8,2,3]\n",
    "\n",
    "def sort_list(list):\n",
    "    s1=[]\n",
    "    s2=[]\n",
    "    for i in list:\n",
    "        if i<0:\n",
    "            s1.append(i)\n",
    "        else:\n",
    "            s2.append(i)\n",
    "    return s1+s2\n",
    "print(s1+s2)"
   ]
  },
  {
   "cell_type": "markdown",
   "metadata": {},
   "source": [
    "# 4.\n",
    "1~1000에서 각 숫자의 개수 구하기\n",
    "\n",
    "예로 10 ~ 15 까지의 각 숫자의 개수를 구해보자 \n",
    "\n",
    "10 = 1, 0\n",
    " 11 = 1, 1\n",
    " 12 = 1, 2\n",
    " 13 = 1, 3\n",
    " 14 = 1, 4\n",
    " 15 = 1, 5 \n",
    "\n",
    "그러므로 이 경우의 답은 0:1개, 1:7개, 2:1개, 3:1개, 4:1개, 5:1개\n"
   ]
  },
  {
   "cell_type": "code",
   "execution_count": 66,
   "metadata": {},
   "outputs": [
    {
     "name": "stdout",
     "output_type": "stream",
     "text": [
      "{0: 192, 1: 301, 2: 300, 3: 300, 4: 300, 5: 300, 6: 300, 7: 300, 8: 300, 9: 300}\n"
     ]
    }
   ],
   "source": [
    "count={x:0 for x in range(0,10)}\n",
    "for n in range(1,1001):\n",
    "    for x in str(n):\n",
    "        count[int(x)]+=1\n",
    "print(count)"
   ]
  }
 ],
 "metadata": {
  "kernelspec": {
   "display_name": "Python 3",
   "language": "python",
   "name": "python3"
  },
  "language_info": {
   "codemirror_mode": {
    "name": "ipython",
    "version": 3
   },
   "file_extension": ".py",
   "mimetype": "text/x-python",
   "name": "python",
   "nbconvert_exporter": "python",
   "pygments_lexer": "ipython3",
   "version": "3.7.4"
  }
 },
 "nbformat": 4,
 "nbformat_minor": 2
}
