{
 "cells": [
  {
   "cell_type": "markdown",
   "metadata": {},
   "source": [
    "# 1. 공백을 제외한 글자수 세기\n",
    "\n",
    "어떠한 문자열을 입력받았을 때 줄바꿈과 공백을 제외한 글자수만을 리턴하는 코드를 작성하시오.  \n",
    "\n",
    "입력 예시  \n",
    "\n",
    "\n",
    "\n",
    "*공백을 제외한  \n",
    "글자수만을 세는 코드 테스트*   \n",
    "\n",
    "\n",
    "출력 예시  \n",
    "\n",
    "\n",
    "\n",
    "18"
   ]
  },
  {
   "cell_type": "code",
   "execution_count": 23,
   "metadata": {},
   "outputs": [
    {
     "name": "stdout",
     "output_type": "stream",
     "text": [
      "공백을 제외한 글자수만을 세는 코드 테스트\n"
     ]
    }
   ],
   "source": [
    "data=\"공백을 제외한\\n글자수만을 세는 코드 테스트\"\n",
    "a=data.replace(\"\\n\",\" \")\n",
    "print(a.strip())"
   ]
  },
  {
   "cell_type": "code",
   "execution_count": 21,
   "metadata": {},
   "outputs": [
    {
     "name": "stdout",
     "output_type": "stream",
     "text": [
      "입력하세요:공백을 제외한 글자수만을 세는 코드 테스트\n",
      "18\n"
     ]
    }
   ],
   "source": [
    "import re\n",
    "print(len(re.findall(\"[\\S]\", input(\"입력하세요:\"))))"
   ]
  },
  {
   "cell_type": "markdown",
   "metadata": {},
   "source": [
    "# 2. 자신을 제외한 곱셈\n",
    "\n",
    "\n",
    "배열 [a, b, c, d]를 입력하면 배열[bcd, acd, abd, abc]를 출력하는 코드를 작성하시오.  \n",
    "\n",
    "(단, 나눗셈 사용 금지)  \n",
    "\n",
    "입출력되는 배열은 어떤 형식이든 상관없습니다.  \n",
    "\n",
    "\n",
    "\n",
    "입력 예시  \n",
    "\n",
    "2, 6, 4, 7  \n",
    "\n",
    "\n",
    "출력 예시  \n",
    "\n",
    "168, 56, 84, 48  \n"
   ]
  },
  {
   "cell_type": "code",
   "execution_count": 32,
   "metadata": {},
   "outputs": [
    {
     "name": "stdout",
     "output_type": "stream",
     "text": [
      "[168, 56, 84, 48]\n"
     ]
    }
   ],
   "source": [
    "input=[2,6,4,7]\n",
    "output=[]\n",
    "for i in range(len(input)):\n",
    "    mul=1\n",
    "    for j in range(len(input)):\n",
    "        if j == i: continue\n",
    "        mul=mul*input[j]\n",
    "    output.append(mul)\n",
    "print(output)\n",
    "    "
   ]
  },
  {
   "cell_type": "code",
   "execution_count": 29,
   "metadata": {},
   "outputs": [],
   "source": [
    "def array(a,b,c,d):\n",
    "    x1 = b*c*d\n",
    "    x2 = a*c*d\n",
    "    x3 = a*b*d\n",
    "    x4 = a*b*c\n",
    "    print(x1,x2,x3,x4)"
   ]
  },
  {
   "cell_type": "code",
   "execution_count": 30,
   "metadata": {},
   "outputs": [
    {
     "name": "stdout",
     "output_type": "stream",
     "text": [
      "168 84 56 48\n"
     ]
    }
   ],
   "source": [
    "array(2,4,6,7)"
   ]
  }
 ],
 "metadata": {
  "kernelspec": {
   "display_name": "Python 3",
   "language": "python",
   "name": "python3"
  },
  "language_info": {
   "codemirror_mode": {
    "name": "ipython",
    "version": 3
   },
   "file_extension": ".py",
   "mimetype": "text/x-python",
   "name": "python",
   "nbconvert_exporter": "python",
   "pygments_lexer": "ipython3",
   "version": "3.7.4"
  }
 },
 "nbformat": 4,
 "nbformat_minor": 2
}
