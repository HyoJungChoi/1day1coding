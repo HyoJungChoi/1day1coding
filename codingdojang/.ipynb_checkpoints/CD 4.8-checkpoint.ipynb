{
 "cells": [
  {
   "cell_type": "markdown",
   "metadata": {},
   "source": [
    "# 다음 입사문제 중에서"
   ]
  },
  {
   "cell_type": "markdown",
   "metadata": {},
   "source": [
    "1차원의 점들이 주어졌을 때, 그 중 가장 거리가 짧은 것의 쌍을 출력하는 함수를 작성하시오. (단 점들의 배열은 모두 정렬되어있다고 가정한다.)  \n",
    "\n",
    "\n",
    "\n",
    "예를들어 S={1, 3, 4, 8, 13, 17, 20} 이 주어졌다면, 결과값은 (3, 4)가 될 것이다."
   ]
  },
  {
   "cell_type": "code",
   "execution_count": 19,
   "metadata": {},
   "outputs": [
    {
     "name": "stdout",
     "output_type": "stream",
     "text": [
      "1, 3, 4, 8, 13, 17, 20\n",
      "dict_items([(2, [('1', ' 3')]), (3, [(' 17', ' 20')]), (7, [(' 13', ' 20')]), (12, [(' 8', ' 20')]), (16, [(' 4', ' 20')]), (19, [('1', ' 20')]), (1, [(' 3', ' 4')]), (5, [(' 8', ' 13')]), (10, [(' 3', ' 13')]), (14, [(' 3', ' 17')]), (17, [(' 3', ' 20')]), (4, [(' 13', ' 17')]), (9, [(' 8', ' 17')]), (13, [(' 4', ' 17')])])\n",
      "[(' 3', ' 4')]\n"
     ]
    }
   ],
   "source": [
    "s=list(input().split(','))\n",
    "\n",
    "dict={}\n",
    "\n",
    "for i in range(0,len(s)):\n",
    "    for j in range(i+1,len(s)):\n",
    "    \n",
    "        s1=abs(int(s[i])-int(s[j]))\n",
    "        \n",
    "        dict[s1]=[(s[i],s[j])]\n",
    "       \n",
    "        \n",
    "print(dict.items())\n",
    "print(dict[min(dict.keys())])"
   ]
  },
  {
   "cell_type": "code",
   "execution_count": 8,
   "metadata": {},
   "outputs": [
    {
     "data": {
      "text/plain": [
       "2"
      ]
     },
     "execution_count": 8,
     "metadata": {},
     "output_type": "execute_result"
    }
   ],
   "source": [
    "result[0]"
   ]
  },
  {
   "cell_type": "code",
   "execution_count": 43,
   "metadata": {},
   "outputs": [
    {
     "name": "stdout",
     "output_type": "stream",
     "text": [
      "1\n"
     ]
    }
   ],
   "source": [
    "result.sort()\n",
    "print(result[0])"
   ]
  },
  {
   "cell_type": "code",
   "execution_count": 12,
   "metadata": {},
   "outputs": [
    {
     "name": "stdout",
     "output_type": "stream",
     "text": [
      "[(3, 4)]\n"
     ]
    }
   ],
   "source": [
    "def spair(S):\n",
    "    dict = {}\n",
    "    for (x, y) in zip(S[:-1], S[1:]):\n",
    "        if not dict.get(y-x):\n",
    "            dict[y-x] = [(x,y)]\n",
    "        else:\n",
    "            dict[y-x] = dict[y-x] + [(x,y)]\n",
    "\n",
    "    return dict[min(dict.keys())]\n",
    "\n",
    "S = [1, 3, 4, 8, 13, 17, 20] \n",
    "#S = [1,2,4,5,8,15,19]\n",
    "print(spair(S))"
   ]
  }
 ],
 "metadata": {
  "kernelspec": {
   "display_name": "Python 3",
   "language": "python",
   "name": "python3"
  },
  "language_info": {
   "codemirror_mode": {
    "name": "ipython",
    "version": 3
   },
   "file_extension": ".py",
   "mimetype": "text/x-python",
   "name": "python",
   "nbconvert_exporter": "python",
   "pygments_lexer": "ipython3",
   "version": "3.7.6"
  }
 },
 "nbformat": 4,
 "nbformat_minor": 4
}
