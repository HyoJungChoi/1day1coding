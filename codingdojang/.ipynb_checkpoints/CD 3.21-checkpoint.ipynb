{
 "cells": [
  {
   "cell_type": "markdown",
   "metadata": {},
   "source": [
    "# 1. 비슷한 단어 찾아내기"
   ]
  },
  {
   "cell_type": "markdown",
   "metadata": {},
   "source": [
    "아래와 같은 결과를 출력하는 function을 구현하라  \n",
    "\n",
    "\n",
    "bool OneEditApart(string s1, string s2)\n",
    "\n",
    " \n",
    "\n",
    "OneEditApart(\"cat\", \"dog\") = false  \n",
    "OneEditApart(\"cat\", \"cats\") = true   \n",
    "OneEditApart(\"cat\", \"cut\") = true   \n",
    "OneEditApart(\"cat\", \"cast\") = true   \n",
    "OneEditApart(\"cat\", \"at\") = true  \n",
    "OneEditApart(\"cat\", \"acts\") = false   \n",
    "\n",
    "한개의 문자를 삽입, 제거, 변환을 했을때 s1, s2가 동일한지를 판별하는 OneEditApart 함수를 작성하시오.  \n",
    "\n",
    "[출처](http://www.careercup.com/question?id=4793416529477632)"
   ]
  },
  {
   "cell_type": "code",
   "execution_count": 62,
   "metadata": {},
   "outputs": [],
   "source": [
    "\n",
    "def remove(s1,s2): \n",
    "    for i in range(len(s1)):\n",
    "        t = s1[:i] + s1[i+1:]\n",
    "        if s2==t: return True\n",
    "    return False #ca,at,ct\n",
    "\n",
    "def add(s1,s2): \n",
    "    for i in range(len(s2)):\n",
    "        tt=s2.replace(s2[i],\"\")\n",
    "        if s1==tt: return True\n",
    "    return False\n",
    "\n",
    "\n",
    "def OneEditApart(s1,s2):\n",
    "    if len(s1)>len(s2):\n",
    "        return remove(s1,s2)\n",
    "    elif len(s1)<len(s2):\n",
    "        return add(s1,s2)\n",
    "    else:\n",
    "        return add(s1,s2)\n",
    "    \n",
    "\n",
    "\n"
   ]
  },
  {
   "cell_type": "code",
   "execution_count": 63,
   "metadata": {},
   "outputs": [
    {
     "name": "stdout",
     "output_type": "stream",
     "text": [
      "False\n",
      "True\n",
      "False\n",
      "True\n",
      "True\n",
      "False\n"
     ]
    }
   ],
   "source": [
    "print(OneEditApart(\"cat\", \"dog\"))\n",
    "print(OneEditApart(\"cat\", \"cats\"))\n",
    "print(OneEditApart(\"cat\", \"cut\"))\n",
    "print(OneEditApart(\"cat\", \"cast\"))\n",
    "print(OneEditApart(\"cat\", \"at\"))\n",
    "print(OneEditApart(\"cat\", \"acts\"))"
   ]
  },
  {
   "cell_type": "code",
   "execution_count": 65,
   "metadata": {},
   "outputs": [
    {
     "name": "stdout",
     "output_type": "stream",
     "text": [
      "False\n",
      "True\n",
      "True\n",
      "True\n",
      "True\n",
      "False\n"
     ]
    }
   ],
   "source": [
    "def checkRemoval(s1, s2):\n",
    "    for i in range(len(s1)):\n",
    "        t = s1[:i]+s1[i+1:]\n",
    "        if s2==t: return True\n",
    "    return False\n",
    "\n",
    "def checkReplace(s1, s2):\n",
    "    for i in range(len(s1)):\n",
    "        t1 = s1[:i]+s1[i+1:]\n",
    "        t2 = s2[:i]+s2[i+1:]\n",
    "        if t1==t2: return True\n",
    "    return False\n",
    "\n",
    "def OneEditApart(s1, s2):\n",
    "    if len(s1) > len(s2):\n",
    "        return checkRemoval(s1, s2)\n",
    "    elif len(s1) < len(s2):\n",
    "        return checkRemoval(s2, s1)\n",
    "    else:\n",
    "        return checkReplace(s1, s2)\n",
    "\n",
    "print(OneEditApart(\"cat\", \"dog\"))\n",
    "print(OneEditApart(\"cat\", \"cats\"))\n",
    "print(OneEditApart(\"cat\", \"cut\"))\n",
    "print(OneEditApart(\"cat\", \"cast\"))\n",
    "print(OneEditApart(\"cat\", \"at\"))\n",
    "print(OneEditApart(\"cat\", \"acts\"))\n"
   ]
  }
 ],
 "metadata": {
  "kernelspec": {
   "display_name": "Python 3",
   "language": "python",
   "name": "python3"
  },
  "language_info": {
   "codemirror_mode": {
    "name": "ipython",
    "version": 3
   },
   "file_extension": ".py",
   "mimetype": "text/x-python",
   "name": "python",
   "nbconvert_exporter": "python",
   "pygments_lexer": "ipython3",
   "version": "3.7.4"
  }
 },
 "nbformat": 4,
 "nbformat_minor": 2
}
