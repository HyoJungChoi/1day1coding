{
 "cells": [
  {
   "cell_type": "markdown",
   "metadata": {},
   "source": [
    "# 10진수를 n진수로 변환하기"
   ]
  },
  {
   "cell_type": "markdown",
   "metadata": {},
   "source": [
    "다음은 233 이란 10진수를 2진수로 변환하는 과정을 나타낸 그림이다.  \n",
    "\n",
    "![10](./images/10.png)\n",
    "\n",
    "위 그림을 참조하여 라이브러리를 사용하지 말고 10진수를 n진수로 변환하는 프로그램을 작성하시오.. (단, n의 범위는 2 <= n <= 16)  \n",
    "\n",
    "\n",
    "\n",
    "예)  \n",
    "\n",
    "\n",
    "\n",
    "2진수로 변환 : 233_10_ --> 11101001_2_  \n",
    "8진수로 변환 : 233_10_ --> 351_8_  \n",
    "16진수로 변환 : 233_10_ --> E9_16_"
   ]
  },
  {
   "cell_type": "code",
   "execution_count": 4,
   "metadata": {},
   "outputs": [
    {
     "name": "stdout",
     "output_type": "stream",
     "text": [
      "11101001\n",
      "351\n",
      "E9\n"
     ]
    }
   ],
   "source": [
    "def convert(n1,n2):\n",
    "    T=\"0123456789ABCDEF\"\n",
    "    q,r=divmod(n1,n2)\n",
    "    if q==0:\n",
    "        return T[r] #r-1 추출\n",
    "    else:\n",
    "        return convert(q,n2)+T[r]\n",
    "print(convert(233, 2))\n",
    "print(convert(233, 8))\n",
    "print(convert(233, 16))"
   ]
  }
 ],
 "metadata": {
  "kernelspec": {
   "display_name": "Python 3",
   "language": "python",
   "name": "python3"
  },
  "language_info": {
   "codemirror_mode": {
    "name": "ipython",
    "version": 3
   },
   "file_extension": ".py",
   "mimetype": "text/x-python",
   "name": "python",
   "nbconvert_exporter": "python",
   "pygments_lexer": "ipython3",
   "version": "3.7.6"
  }
 },
 "nbformat": 4,
 "nbformat_minor": 4
}
