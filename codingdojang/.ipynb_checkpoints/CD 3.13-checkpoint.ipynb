{
 "cells": [
  {
   "cell_type": "markdown",
   "metadata": {},
   "source": [
    "# 1. 중앙값 구하기\n",
    "\n",
    "리스트에 있는 숫자들의 중앙값을 구하는 프로그램을 만들어라.  \n",
    "\n",
    "\n",
    "\n",
    "[7, 9, 14] = 9  \n",
    "[24, 31, 35, 49] = 33  \n",
    "[17, 37, 37, 47, 57] = 37\n",
    "\n",
    "\n",
    "\n",
    "중앙값 : 자료를 작은 값에서부터 크기순으로 나열할 때 중앙에 위치한 값  \n",
    "① 자료의 개수가 홀수이면 가운데 위치한 값이 중앙값이다.  \n",
    "② 자료의 개수가 짝수이면 가운데 위치한 두 값의 평균이 중앙값이다.  "
   ]
  },
  {
   "cell_type": "code",
   "execution_count": 29,
   "metadata": {},
   "outputs": [],
   "source": [
    "def median(list):\n",
    "    \n",
    "    list=sorted(list)\n",
    "    \n",
    "    if len(list)%2==0:\n",
    "        result=(list[int(len(list)//2)-1]+list[int(len(list)//2)])/2\n",
    "        return result\n",
    "    else:\n",
    "        return list[int(len(list))//2]\n",
    "        \n",
    "\n",
    "           \n",
    "           \n",
    "           \n",
    "           "
   ]
  },
  {
   "cell_type": "code",
   "execution_count": 30,
   "metadata": {},
   "outputs": [
    {
     "name": "stdout",
     "output_type": "stream",
     "text": [
      "2.5\n"
     ]
    }
   ],
   "source": [
    "list=[1,2,3,4]\n",
    "print(median(list))"
   ]
  },
  {
   "cell_type": "code",
   "execution_count": 31,
   "metadata": {},
   "outputs": [
    {
     "name": "stdout",
     "output_type": "stream",
     "text": [
      "3\n"
     ]
    }
   ],
   "source": [
    "list=[3,4,2,1,6]\n",
    "print(median(list))"
   ]
  },
  {
   "cell_type": "markdown",
   "metadata": {},
   "source": [
    "# 2. 약수를 찾아라\n",
    "\n",
    "다음은 약수를 얻기 위한 입력과 출력 예제들이다.  \n",
    "\n",
    "\n",
    "\n",
    "입력 1  \n",
    "\n",
    "24  \n",
    "\n",
    "\n",
    "출력 1  \n",
    "\n",
    "{ 1, 2, 3, 4, 6, 8, 12, 24}   \n",
    "약수의 개수는 8개 입니다.\n",
    "\n",
    "\n",
    "입력 2    \n",
    "\n",
    "36  \n",
    "\n",
    "\n",
    "출력 2  \n",
    "\n",
    "{ 1, 2, 3, 4, 6, 9, 12, 18, 36 }  \n",
    "약수의 개수는 9개 입니다.  \n",
    "\n",
    "\n",
    "입력 3  \n",
    "\n",
    "2468013579  \n",
    "\n",
    "\n",
    "출력 3  \n",
    "\n",
    "{ 1, 3, 9, 61, 183, 549, 4495471, 13486413, 40459239, 274223731, 822671193, 2468013579 }  \n",
    "약수의 개수는 12개 입니다.  \n",
    "\n",
    "\n",
    "1. 사용한 소스코드를 풀이에 넣어 입력과 출력이 나왔음을 보이고,  \n",
    "2. 소스코드를 디버깅하여 123456789를 입력해 출력된 결과를 '{ a, b, ... } / 약수의 개수는 ~개 입니다' 형식으로 하시오."
   ]
  },
  {
   "cell_type": "code",
   "execution_count": 62,
   "metadata": {},
   "outputs": [],
   "source": [
    "\n",
    "def divisor(num):\n",
    "    result=[]\n",
    "    for i in range(1,num+1):\n",
    "        if num%i==0:\n",
    "            result.append(i)\n",
    "    return result\n",
    "    \n",
    "    print(\"약수의 개수는 %d개 입니다.\" %len(result))\n",
    "            \n",
    "            \n",
    "            "
   ]
  },
  {
   "cell_type": "code",
   "execution_count": 63,
   "metadata": {},
   "outputs": [
    {
     "name": "stdout",
     "output_type": "stream",
     "text": [
      "[1, 3, 9, 3607, 3803, 10821, 11409, 32463, 34227, 13717421, 41152263, 123456789]\n"
     ]
    }
   ],
   "source": [
    "num=123456789\n",
    "print(divisor(num))"
   ]
  },
  {
   "cell_type": "code",
   "execution_count": 73,
   "metadata": {},
   "outputs": [
    {
     "name": "stdout",
     "output_type": "stream",
     "text": [
      "123456789\n",
      "{ 1 3 9 3607 3803 10821 11409 32463 34227 13717421 41152263 123456789 }\n",
      "약수의 개수는 12개 입니다.\n"
     ]
    }
   ],
   "source": [
    "n = int(input())\n",
    "\n",
    "div = {x for x in range(1, int(n ** 0.5)+1) if n % x == 0}\n",
    "div |= {n // x for x in div}\n",
    "print('{', *sorted(div), '}')\n",
    "print(f'약수의 개수는 {len(div)}개 입니다.')"
   ]
  }
 ],
 "metadata": {
  "kernelspec": {
   "display_name": "Python 3",
   "language": "python",
   "name": "python3"
  },
  "language_info": {
   "codemirror_mode": {
    "name": "ipython",
    "version": 3
   },
   "file_extension": ".py",
   "mimetype": "text/x-python",
   "name": "python",
   "nbconvert_exporter": "python",
   "pygments_lexer": "ipython3",
   "version": "3.7.4"
  }
 },
 "nbformat": 4,
 "nbformat_minor": 2
}
