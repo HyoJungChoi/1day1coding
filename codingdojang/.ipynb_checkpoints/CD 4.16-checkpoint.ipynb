{
 "cells": [
  {
   "cell_type": "markdown",
   "metadata": {},
   "source": [
    "# 주식투자"
   ]
  },
  {
   "cell_type": "markdown",
   "metadata": {},
   "source": [
    "## 요약\n",
    "초기 투자액과 투자 기간, 그리고 투자 기간 중 날짜별 가치 변동율이 주어질 때 순이익과 이익 여부를 구합니다.\n",
    "\n",
    "## 입력\n",
    "첫째 줄에 투자액이 정수로 주어집니다. 두번째 줄에 투자기간이 정수로 주어집니다. 세번째 줄에 투자기간 중 일별 전일 대비 가치 변동이 각각 퍼센트 단위의 정수로 주어집니다.\n",
    "\n",
    "투자액은 100 이상 10000 이하의 정수입니다.\n",
    "투자 기간은 1 이상 10 이하의 정수입니다.\n",
    "일별 변동폭은 -100 이상 100 이하의 정수로 주어집니다.\n",
    "### 출력\n",
    "첫째 줄에 순이익을 소수점 첫째자리에서 반올림한 값으로 나타냅니다. 두번째 줄에 이익인지 손해인지 여부를 good, same, bad로 나타냅니다. 이익이면 good, 손해이면 bad, 첫째줄에서 출력한 순이익이 0이면 same울 출력합니다.\n",
    "\n",
    "### 예시\n",
    "입력 예시\n",
    "10000  \n",
    "4  \n",
    "10 -10 5 -5  \n",
    "출력 예시  \n",
    "-125  \n",
    "bad"
   ]
  },
  {
   "cell_type": "code",
   "execution_count": 69,
   "metadata": {},
   "outputs": [
    {
     "name": "stdout",
     "output_type": "stream",
     "text": [
      "투자금:10000\n",
      "기간:4\n",
      "변동폭: 10 -10 5 -5\n"
     ]
    }
   ],
   "source": [
    "a=input(\"투자금:\")\n",
    "b=int(input(\"기간:\"))\n",
    "c=list(input(\"변동폭: \").split(' '))"
   ]
  },
  {
   "cell_type": "code",
   "execution_count": 92,
   "metadata": {},
   "outputs": [
    {
     "name": "stdout",
     "output_type": "stream",
     "text": [
      "-125\n",
      "bad\n"
     ]
    }
   ],
   "source": [
    "def asset(a,b,c):\n",
    "    sum_profit=int(a)\n",
    "    for i in range(b):\n",
    "        profit=sum_profit*int(c[i])/100\n",
    "        sum_profit+=profit\n",
    "        \n",
    "    return round(sum_profit-int(a))\n",
    "\n",
    "\n",
    "print(asset(a,b,c))\n",
    "if asset(a,b,c)==0:\n",
    "    print(\"same\")\n",
    "elif asset(a,b,c) > 0:\n",
    "    print(\"good\")\n",
    "elif asset(a,b,c) < 0:\n",
    "    print(\"bad\")"
   ]
  }
 ],
 "metadata": {
  "kernelspec": {
   "display_name": "Python 3",
   "language": "python",
   "name": "python3"
  },
  "language_info": {
   "codemirror_mode": {
    "name": "ipython",
    "version": 3
   },
   "file_extension": ".py",
   "mimetype": "text/x-python",
   "name": "python",
   "nbconvert_exporter": "python",
   "pygments_lexer": "ipython3",
   "version": "3.7.6"
  }
 },
 "nbformat": 4,
 "nbformat_minor": 4
}
