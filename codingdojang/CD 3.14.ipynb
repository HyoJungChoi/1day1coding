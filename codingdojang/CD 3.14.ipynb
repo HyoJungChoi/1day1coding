{
 "cells": [
  {
   "cell_type": "markdown",
   "metadata": {},
   "source": [
    "# 1. 이차방정식 구하기\n",
    "\n",
    "A씨는 학교숙제로 이차방정식 문제를 풀어야 한다. 하지만 시간이 얼마 없다. 이 A씨를 도와주기 위한 이차방정식 풀이 프로그램을 작성해라.(단, 일차방정식은 ax^2 + bx + c = 0의 꼴에서 a, b와 c를 입력받아 해를 구하고 해를 구하기 위해 근의 공식을 사용해야 한다. 또, 해는 정수로 반올림한 값을 구하고 해가 없거나 여러개인 경우도 모두 구해야 한다.)"
   ]
  },
  {
   "cell_type": "code",
   "execution_count": 6,
   "metadata": {},
   "outputs": [],
   "source": [
    "def quadratic_equation(a,b,c):\n",
    "    D=b*b-4*a*c\n",
    "    if D>0:\n",
    "        x1=round((-b-D**0.5)/2*a)\n",
    "        x2=round((-b+D**0.5)/2*a)\n",
    "        print(\"x\",\"=\",x1,\",\",x2)\n",
    "    elif D==0:\n",
    "        x=round(-b/2*a)\n",
    "        print(\"중근입니다\")\n",
    "        print(\"x\",\"=\",x)\n",
    "    else:\n",
    "        print(\"허근입니다\")\n"
   ]
  },
  {
   "cell_type": "code",
   "execution_count": 7,
   "metadata": {},
   "outputs": [
    {
     "name": "stdout",
     "output_type": "stream",
     "text": [
      "중근입니다\n",
      "x = -1\n"
     ]
    }
   ],
   "source": [
    "quadratic_equation(1,2,1)"
   ]
  },
  {
   "cell_type": "code",
   "execution_count": 8,
   "metadata": {},
   "outputs": [
    {
     "name": "stdout",
     "output_type": "stream",
     "text": [
      "허근입니다\n"
     ]
    }
   ],
   "source": [
    "quadratic_equation(1,4,6)"
   ]
  },
  {
   "cell_type": "markdown",
   "metadata": {},
   "source": [
    "# 2. 문자열을 제거한뒤 숫자만반환\n",
    "\n",
    "ex: xxx :1w627r00o00p00 > xxx : 1627000000 만 (특수문자제외)"
   ]
  },
  {
   "cell_type": "code",
   "execution_count": 13,
   "metadata": {},
   "outputs": [
    {
     "name": "stdout",
     "output_type": "stream",
     "text": [
      "1w627r00o00p00\n",
      "1627000000\n"
     ]
    }
   ],
   "source": [
    "print(''.join(i for i in input('') if i.isdigit()))"
   ]
  },
  {
   "cell_type": "code",
   "execution_count": 14,
   "metadata": {},
   "outputs": [
    {
     "name": "stdout",
     "output_type": "stream",
     "text": [
      "1w627r00o00p00\n",
      "1627000000\n"
     ]
    }
   ],
   "source": [
    "value = input()\n",
    "str_value=\"\"\n",
    "\n",
    "for i in value:\n",
    "    if 48 <= ord(i) <= 57:\n",
    "        str_value += i\n",
    "\n",
    "print(str_value)"
   ]
  }
 ],
 "metadata": {
  "kernelspec": {
   "display_name": "Python 3",
   "language": "python",
   "name": "python3"
  },
  "language_info": {
   "codemirror_mode": {
    "name": "ipython",
    "version": 3
   },
   "file_extension": ".py",
   "mimetype": "text/x-python",
   "name": "python",
   "nbconvert_exporter": "python",
   "pygments_lexer": "ipython3",
   "version": "3.7.4"
  }
 },
 "nbformat": 4,
 "nbformat_minor": 2
}
