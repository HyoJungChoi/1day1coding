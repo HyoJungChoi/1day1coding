{
 "cells": [
  {
   "cell_type": "markdown",
   "metadata": {},
   "source": [
    "# 1.\n",
    "\n",
    "문자열을 입력받아서, 같은 문자가 연속적으로 반복되는 경우에 그 반복 횟수를 표시하여 문자열을 압축하기.\n",
    "\n",
    "입력 예시: aaabbcccccca\n",
    "\n",
    "출력 예시: a3b2c6a1"
   ]
  },
  {
   "cell_type": "code",
   "execution_count": 7,
   "metadata": {},
   "outputs": [
    {
     "name": "stdout",
     "output_type": "stream",
     "text": [
      "{'a': 4, 'b': 2, 'c': 6}\n"
     ]
    }
   ],
   "source": [
    "num='aaabbcccccca'\n",
    "count={'a':num.count('a'),'b':num.count('b'),'c':num.count('c')}\n",
    "print(count)"
   ]
  },
  {
   "cell_type": "code",
   "execution_count": 9,
   "metadata": {},
   "outputs": [
    {
     "name": "stdout",
     "output_type": "stream",
     "text": [
      "a2b1c3a5s1\n"
     ]
    }
   ],
   "source": [
    "s = 'aabcccaaaaas'\n",
    "\n",
    "result = s[0]  # 첫번째 값을 결과에 넣는다\n",
    "count  = 0   #\n",
    "\n",
    "for st in s:\n",
    "    if st == result[-1]:  #\n",
    "        count += 1\n",
    "    else:\n",
    "        result += str(count) + st\n",
    "        count = 1\n",
    "result += str(count)\n",
    "\n",
    "print(result)\n"
   ]
  },
  {
   "cell_type": "code",
   "execution_count": 14,
   "metadata": {},
   "outputs": [
    {
     "name": "stdout",
     "output_type": "stream",
     "text": [
      "a4b3c2z4a1\n"
     ]
    }
   ],
   "source": [
    "s = \"aaaabbbcczzzza\"\n",
    "\n",
    "#초기값을 설정합니다.\n",
    "result = s[0] #반복문 실행되는 동안 문자열 형태로 반환되는 결과들을 담을 변수\n",
    "count = 0 #반복돼서 나오는 문자 수만큼 카운팅되는 값을 담을 변수\n",
    "\n",
    "for i in s:\n",
    "    if i == result[-1]: #result변수 마지막 문자와 비교합니다. else에서 result변수에 값이 추가되기 때문에 마지막 문자[-1]와 비교.\n",
    "        count += 1\n",
    "    else:\n",
    "        result += str(count) + i #마지막 글자와 i가 다를 경우 카운팅된 값을 문자열 형태로 result 변수 마지막에 추가 해주고 i를 마지막 문자로 추가합니다.\n",
    "        count = 1\n",
    "result += str(count) #결과들이 담긴 변수에 마지막으로 카운팅된 값을 문자열 형태로 추가합니다.\n",
    "\n",
    "print(result)"
   ]
  },
  {
   "cell_type": "markdown",
   "metadata": {},
   "source": [
    "# 2. \n",
    "\n",
    "20150111을 출력합니다.\n",
    "4가지 기준만 만족하면 됩니다.\n",
    "\n",
    "1. 코드 내에 숫자가 없어야 합니다.  \n",
    "2. 파일 이름이나 경로를 사용해서는 안됩니다.  \n",
    "3. 시간, 날짜 함수를 사용해서는 안됩니다.  \n",
    "4. 에러 번호 출력을 이용해서는 안됩니다."
   ]
  },
  {
   "cell_type": "code",
   "execution_count": 16,
   "metadata": {},
   "outputs": [
    {
     "name": "stdout",
     "output_type": "stream",
     "text": [
      "20150111\n"
     ]
    }
   ],
   "source": [
    "n='aabddddd'\n",
    "\n",
    "print(int(str(n.count('a'))+str(n.count('e'))+str(n.count('b'))+str(n.count('d'))+\n",
    "         str(n.count('e'))+str(n.count('b'))+str(n.count('b'))+str(n.count('b'))))"
   ]
  },
  {
   "cell_type": "markdown",
   "metadata": {},
   "source": [
    "# 3.\n",
    "\n",
    "A씨는 두 개의 버전을 비교하는 프로그램을 작성해야 한다.\n",
    "\n",
    "버전은 다음처럼 \".\" 으로 구분된 문자열이다.\n",
    "\n",
    "버전 예) 1.0.0, 1.0.23, 1.1\n",
    "\n",
    "두 개의 버전을 비교하는 프로그램을 작성하시오.\n",
    "\n",
    "다음은 버전 비교의 예이다.\n",
    "\n",
    "0.0.2 > 0.0.1  \n",
    "1.0.10 > 1.0.3  \n",
    "1.2.0 > 1.1.99  \n",
    "1.1 > 1.0.1"
   ]
  },
  {
   "cell_type": "code",
   "execution_count": 1,
   "metadata": {},
   "outputs": [
    {
     "name": "stdout",
     "output_type": "stream",
     "text": [
      "버전을 입력하세요 1: 1.2.3\n",
      "버전을 입력하세요 2: 1.1.1\n",
      "N>M\n"
     ]
    }
   ],
   "source": [
    "N=input(\"버전을 입력하세요 1: \")\n",
    "M=input(\"버전을 입력하세요 2: \")\n",
    "N=N.split(\".\")\n",
    "M=M.split(\".\")\n",
    "\n",
    "if N[0]>M[0]:\n",
    "    print(\"N>M\")\n",
    "\n",
    "    \n",
    "elif N[1]>M[1]:\n",
    "    print(\"N>M\")\n",
    "\n",
    "    \n",
    "elif N[2]>M[2]:\n",
    "    print(\"N>M\")\n",
    "   \n",
    "    \n",
    "else:\n",
    "    print(\"N<M\")\n"
   ]
  }
 ],
 "metadata": {
  "kernelspec": {
   "display_name": "Python 3",
   "language": "python",
   "name": "python3"
  },
  "language_info": {
   "codemirror_mode": {
    "name": "ipython",
    "version": 3
   },
   "file_extension": ".py",
   "mimetype": "text/x-python",
   "name": "python",
   "nbconvert_exporter": "python",
   "pygments_lexer": "ipython3",
   "version": "3.7.4"
  }
 },
 "nbformat": 4,
 "nbformat_minor": 2
}
